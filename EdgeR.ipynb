{
  "cells": [
    {
      "cell_type": "markdown",
      "metadata": {
        "id": "view-in-github",
        "colab_type": "text"
      },
      "source": [
        "<a href=\"https://colab.research.google.com/github/kubenko-k/Spatial-project/blob/main/EdgeR.ipynb\" target=\"_parent\"><img src=\"https://colab.research.google.com/assets/colab-badge.svg\" alt=\"Open In Colab\"/></a>"
      ]
    },
    {
      "cell_type": "code",
      "execution_count": null,
      "metadata": {
        "id": "7rToy9SWQZ4g"
      },
      "outputs": [],
      "source": [
        "pip install scanpy\n"
      ]
    },
    {
      "cell_type": "code",
      "source": [
        "pip install decoupler"
      ],
      "metadata": {
        "id": "YLac3V7QxLkT"
      },
      "execution_count": null,
      "outputs": []
    },
    {
      "cell_type": "code",
      "source": [
        "pip install squidpy"
      ],
      "metadata": {
        "id": "2rDRao8C7f_W"
      },
      "execution_count": null,
      "outputs": []
    },
    {
      "cell_type": "code",
      "source": [],
      "metadata": {
        "id": "HaFHGWL22WQx"
      },
      "execution_count": null,
      "outputs": []
    },
    {
      "cell_type": "code",
      "execution_count": null,
      "metadata": {
        "id": "plUkjUUJQjR7"
      },
      "outputs": [],
      "source": [
        "import warnings\n",
        "import scanpy as sc\n",
        "import anndata as an\n",
        "import pandas as pd\n",
        "import numpy as np\n",
        "import matplotlib as mpl\n",
        "import matplotlib.pyplot as plt\n",
        "import squidpy as sq\n",
        "import seaborn as sns\n",
        "from urllib import request\n",
        "import json\n",
        "import os\n",
        "from tqdm.notebook import tqdm\n",
        "\n",
        "import statsmodels.api as sm\n",
        "from statsmodels.formula.api import ols\n",
        "from tqdm.notebook import tqdm\n",
        "from statsmodels.stats.multitest import multipletests\n",
        "\n",
        "sc.settings.set_figure_params(dpi=80)\n",
        "#sc.set_figure_params(facecolor=\"white\", figsize=(8, 8))\n",
        "warnings.simplefilter(action='ignore', category=FutureWarning)\n",
        "sc.settings.verbosity = 3"
      ]
    },
    {
      "cell_type": "code",
      "execution_count": null,
      "metadata": {
        "id": "mPJGrcmhQlPn"
      },
      "outputs": [],
      "source": [
        "from google.colab import drive\n",
        "drive.mount('/content/drive')\n",
        "dir_path = '/content/drive/My Drive/Skoltech/Spatial_project/'\n",
        "dir_path_er = '/content/drive/My Drive/Skoltech/Spatial_project/EdgeR/'\n",
        "dir_path_r = '/content/drive/My Drive/Skoltech/Spatial_project/Raw/'\n"
      ]
    },
    {
      "cell_type": "markdown",
      "source": [
        "#Nice pictures"
      ],
      "metadata": {
        "id": "x2VsB56z2vFn"
      }
    },
    {
      "cell_type": "code",
      "source": [
        "adata_nb = sc.read_h5ad(dir_path_r + 'human.h5ad')\n",
        "adata_nb.obs.label.replace({\"L6a\": \"L6\", \"L6b\": \"L6\"}, inplace=True)\n",
        "sc.pp.normalize_total(adata_nb)\n",
        "sc.pp.log1p(adata_nb)"
      ],
      "metadata": {
        "id": "uH-YpDIG22eI"
      },
      "execution_count": null,
      "outputs": []
    },
    {
      "cell_type": "code",
      "source": [
        "scaled_adata_list = list()\n",
        "for sample in adata_nb.obs.sample_id.unique():\n",
        "    scaled_adata_list.append(sc.pp.scale(adata_nb[adata_nb.obs.sample_id == sample], copy=True))\n",
        "\n",
        "scaled_adata = an.concat(scaled_adata_list , merge='same',uns_merge=\"unique\")\n",
        "scaled_adata"
      ],
      "metadata": {
        "id": "C2Ra2b9T3K3K"
      },
      "execution_count": null,
      "outputs": []
    },
    {
      "cell_type": "code",
      "source": [
        "labels = pd.read_csv(dir_path + 'genes_by_cluster.csv')\n",
        "labels = labels.rename(columns={'Unnamed: 0': \"gene\"})\n",
        "labels.index = labels['gene']\n",
        "labels = labels.drop('gene', axis = 1)\n",
        "labels"
      ],
      "metadata": {
        "id": "sOV8C8ZE3lrt"
      },
      "execution_count": null,
      "outputs": []
    },
    {
      "cell_type": "code",
      "source": [
        "labels = labels.rename_axis('gene')\n",
        "\n",
        "cluster_dict = {f\"cluster{i}\": [] for i in range(8)}\n",
        "\n",
        "# Iterate over each row of the DataFrame and populate the dictionary\n",
        "for gene, cluster in labels.iterrows():\n",
        "    cluster_dict[f\"cluster{cluster['cluster']}\"].append(gene)\n",
        "\n",
        "# Print the resulting dictionary\n",
        "print(cluster_dict)"
      ],
      "metadata": {
        "id": "8UtFbx8R4noG"
      },
      "execution_count": null,
      "outputs": []
    },
    {
      "cell_type": "code",
      "source": [
        "genes = cluster_dict['cluster5']\n",
        "genes"
      ],
      "metadata": {
        "id": "Ltg3D9PH5kuS"
      },
      "execution_count": null,
      "outputs": []
    },
    {
      "cell_type": "code",
      "source": [
        "for cluster in cluster_dict.keys():\n",
        "    genes = cluster_dict[cluster]\n",
        "    scaled_adata.obs[f'{cluster}_scaled'] = scaled_adata[:, genes].X.mean(axis=1)\n",
        "scaled_adata.obs.head()"
      ],
      "metadata": {
        "id": "jdkYA1EM3adN"
      },
      "execution_count": null,
      "outputs": []
    },
    {
      "cell_type": "code",
      "source": [
        "pip install squidpy"
      ],
      "metadata": {
        "id": "u9dd4Lu364_o"
      },
      "execution_count": null,
      "outputs": []
    },
    {
      "cell_type": "code",
      "source": [
        "import squidpy as sq"
      ],
      "metadata": {
        "id": "ZKjDEEPC6x7Q"
      },
      "execution_count": null,
      "outputs": []
    },
    {
      "cell_type": "code",
      "source": [
        "cmap = mpl.cm.coolwarm\n",
        "norm = mpl.colors.TwoSlopeNorm(vcenter=0)\n",
        "\n",
        "sq.pl.spatial_scatter(scaled_adata,\n",
        "                      color=['cluster0_scaled', 'cluster1_scaled', 'cluster2_scaled', 'cluster3_scaled', 'cluster4_scaled', 'cluster5_scaled', 'cluster6_scaled', 'cluster7_scaled', 'label'],\n",
        "                      library_key='sample_id', ncols=9, img=True, size=2, cmap=cmap, norm=norm)"
      ],
      "metadata": {
        "id": "j3WeVkvF6OGx"
      },
      "execution_count": null,
      "outputs": []
    },
    {
      "cell_type": "code",
      "source": [
        "adata_ad = sc.read_h5ad(dir_path_r + 'spatial_libd_human.h5ad')\n",
        "adata_ad.obs.label.replace({\"L6a\": \"L6\", \"L6b\": \"L6\"}, inplace=True)\n",
        "adata_ad = adata_ad[:, labels.index]\n",
        "sc.pp.normalize_total(adata_ad)\n",
        "sc.pp.log1p(adata_ad)"
      ],
      "metadata": {
        "id": "LwJaMHaEA37Z"
      },
      "execution_count": null,
      "outputs": []
    },
    {
      "cell_type": "code",
      "source": [
        "adata_ad = adata_ad[:, labels.index]\n",
        "adata_ad"
      ],
      "metadata": {
        "id": "IBA-Njw0YtYg"
      },
      "execution_count": null,
      "outputs": []
    },
    {
      "cell_type": "code",
      "source": [
        "scaled_adata_list = list()\n",
        "for sample in adata_ad.obs.sample_id.unique():\n",
        "    scaled_adata_list.append(sc.pp.scale(adata_ad[adata_ad.obs.sample_id == sample], copy=True))\n",
        "\n",
        "scaled_adata = an.concat(scaled_adata_list , merge='same',uns_merge=\"unique\")\n",
        "scaled_adata"
      ],
      "metadata": {
        "id": "G5qLKy0LBrJb"
      },
      "execution_count": null,
      "outputs": []
    },
    {
      "cell_type": "code",
      "source": [
        "del adata_ad"
      ],
      "metadata": {
        "id": "roV7WaQAhNaY"
      },
      "execution_count": null,
      "outputs": []
    },
    {
      "cell_type": "code",
      "source": [
        "del labels"
      ],
      "metadata": {
        "id": "Bn6tQEH0hdRi"
      },
      "execution_count": null,
      "outputs": []
    },
    {
      "cell_type": "code",
      "source": [
        "for cluster in cluster_dict.keys():\n",
        "    genes = cluster_dict[cluster]\n",
        "    scaled_adata.obs[f'{cluster}_scaled'] = scaled_adata[:, genes].X.mean(axis=1)\n",
        "scaled_adata.obs.head()"
      ],
      "metadata": {
        "id": "dPkuWNP7CB96"
      },
      "execution_count": null,
      "outputs": []
    },
    {
      "cell_type": "code",
      "source": [
        "del dir_path_r"
      ],
      "metadata": {
        "id": "STL6jtD0iuHa"
      },
      "execution_count": null,
      "outputs": []
    },
    {
      "cell_type": "code",
      "source": [
        "cmap = mpl.cm.coolwarm\n",
        "norm = mpl.colors.TwoSlopeNorm(vcenter=0)\n",
        "\n",
        "sq.pl.spatial_scatter(scaled_adata,\n",
        "                      color=['cluster0_scaled', 'cluster1_scaled', 'cluster2_scaled', 'cluster3_scaled', 'cluster4_scaled', 'cluster5_scaled', 'cluster6_scaled', 'cluster7_scaled', 'label'],\n",
        "                      library_key='sample_id', ncols=9, img=True, size=2, cmap=cmap, norm=norm)"
      ],
      "metadata": {
        "id": "VG8pCEd3cNqQ"
      },
      "execution_count": null,
      "outputs": []
    },
    {
      "cell_type": "markdown",
      "metadata": {
        "id": "KIBeMFTvmPji"
      },
      "source": [
        "#Normalization by mean"
      ]
    },
    {
      "cell_type": "code",
      "source": [
        "adata_nb = sc.read_h5ad(dir_path_r + 'human.h5ad')\n",
        "adata_nb.obs.label.replace({\"L6a\": \"L6\", \"L6b\": \"L6\"}, inplace=True)\n",
        "sc.pp.normalize_total(adata_nb)\n",
        "sc.pp.log1p(adata_nb)"
      ],
      "metadata": {
        "id": "Fgm1mUHvGzW8"
      },
      "execution_count": null,
      "outputs": []
    },
    {
      "cell_type": "code",
      "source": [
        "adata_nb.obs"
      ],
      "metadata": {
        "id": "spiZZZ7pGz-u"
      },
      "execution_count": null,
      "outputs": []
    },
    {
      "cell_type": "code",
      "execution_count": null,
      "metadata": {
        "id": "-iDWe9LFmTfV"
      },
      "outputs": [],
      "source": [
        "pb_age = sc.read_h5ad(dir_path + 'pb_age.h5ad')\n",
        "pb_age.obs[\"lib_size\"] = pb_age.X.sum(axis=1)\n",
        "pb_age.obs[\"log_lib_size\"] = np.log(pb_age.obs[\"lib_size\"])\n",
        "sc.pp.normalize_total(pb_age, target_sum=1e4)\n",
        "sc.pp.log1p(pb_age)\n",
        "pb_age = pb_age[:, pb_age.X.mean(axis=0) > 0.05]\n"
      ]
    },
    {
      "cell_type": "code",
      "execution_count": null,
      "metadata": {
        "id": "cV2l_tsPmiA9"
      },
      "outputs": [],
      "source": [
        "def mean (adata):\n",
        "    pb_df = pd.DataFrame(adata.X, columns=adata.var_names, index=adata.obs_names)\n",
        "    pb_df['sample_id'] = adata.obs['sample_id']\n",
        "    pb_df['sample_id'].replace({'151507': '1', '151508':'1', '151509' : '1', '151510' : '1', '151669' : '2', '151670':'2', '151671':'2', '151672':'2', '151673':'3', '151674':'3', '151675':'3', '151676':'3'}, inplace=True)\n",
        "    pb_df.head()\n",
        "    sample_mean = pb_df.groupby('sample_id').mean()\n",
        "    columns = pb_df.columns.tolist()[:-1]\n",
        "    for sample in tqdm(sample_mean.index.tolist()):\n",
        "        pb_df.loc[pb_df.sample_id == sample, columns] = (pb_df.loc[pb_df.sample_id == sample, columns] - sample_mean.loc[sample])\n",
        "\n",
        "    adata.X = pb_df[columns].values\n",
        "    return adata"
      ]
    },
    {
      "cell_type": "code",
      "execution_count": null,
      "metadata": {
        "id": "RuzfwdULp1ge"
      },
      "outputs": [],
      "source": [
        "pb_age_norm_mean = mean (pb_age)"
      ]
    },
    {
      "cell_type": "code",
      "execution_count": null,
      "metadata": {
        "id": "X3xPvkpAqE6f"
      },
      "outputs": [],
      "source": [
        "df_mean = pd.DataFrame(pb_age_norm_mean.X, index=pb_age_norm_mean.obs_names, columns=pb_age_norm_mean.var_names)\n",
        "df_mean['condition'] = pb_age_norm_mean.obs.condition\n",
        "df_mean['layer'] = pb_age_norm_mean.obs.layer\n",
        "df_mean = df_mean.T\n",
        "df_mean"
      ]
    },
    {
      "cell_type": "code",
      "execution_count": null,
      "metadata": {
        "id": "5lw2q6s3h_NP"
      },
      "outputs": [],
      "source": [
        "df_res = df_mean[df_mean.index.isin(edge_r.gene)]\n",
        "df_res = df_res.T\n",
        "df_res"
      ]
    },
    {
      "cell_type": "code",
      "execution_count": null,
      "metadata": {
        "id": "E2ndZk0fpocc"
      },
      "outputs": [],
      "source": [
        "df = df.T\n",
        "df['sample_id'] = pb_age_norm.obs['sample_id']"
      ]
    },
    {
      "cell_type": "code",
      "execution_count": null,
      "metadata": {
        "id": "7wAQqm_XmlPB"
      },
      "outputs": [],
      "source": [
        "\n",
        "df['sample_id'].replace({'151507': '1', '151508':'1', '151509' : '1', '151510' : '1', '151669' : '2', '151670':'2', '151671':'2', '151672':'2', '151673':'3', '151674':'3', '151675':'3', '151676':'3'}, inplace=True)\n",
        "df"
      ]
    },
    {
      "cell_type": "code",
      "execution_count": null,
      "metadata": {
        "id": "5NMGArnrQpEW"
      },
      "outputs": [],
      "source": [
        "edge_r = pd.read_csv(dir_path_er + 'sig_edger.csv')\n",
        "pb_age_norm = sc.read_h5ad(dir_path + 'pb_age_norm.h5ad')\n",
        "df = pd.DataFrame(pb_age_norm.X, index=pb_age_norm.obs_names, columns=pb_age_norm.var_names)\n",
        "df = df.T\n",
        "df_res = df[df.index.isin(edge_r.gene)]\n",
        "df_res = df_res.T\n",
        "df_res"
      ]
    },
    {
      "cell_type": "code",
      "execution_count": null,
      "metadata": {
        "id": "VTxF1IkZqhgQ"
      },
      "outputs": [],
      "source": [
        "df_res = df_mean[df_mean.index.isin(edge_r.gene)]\n",
        "df_res = df_res.T\n",
        "df_res"
      ]
    },
    {
      "cell_type": "code",
      "execution_count": null,
      "metadata": {
        "id": "LOlBLVrvxBLB"
      },
      "outputs": [],
      "source": [
        "edge_r"
      ]
    },
    {
      "cell_type": "code",
      "execution_count": null,
      "metadata": {
        "id": "ilYpM6ziyhfg"
      },
      "outputs": [],
      "source": [
        "FC = pd.read_csv(dir_path + \"FC.csv\")\n",
        "FC.columns = FC.columns.str.replace('Unnamed: 0','genes')\n",
        "FC"
      ]
    },
    {
      "cell_type": "code",
      "execution_count": null,
      "metadata": {
        "id": "89lKMpaBsJP-"
      },
      "outputs": [],
      "source": [
        "df = df_mean\n"
      ]
    },
    {
      "cell_type": "code",
      "execution_count": null,
      "metadata": {
        "id": "QQ1TKI83qy98"
      },
      "outputs": [],
      "source": [
        "pd.to_numeric(df_res)"
      ]
    },
    {
      "cell_type": "code",
      "source": [
        "df_res = df_res.apply(pd.to_numeric)\n"
      ],
      "metadata": {
        "id": "631G1NNn2nof"
      },
      "execution_count": null,
      "outputs": []
    },
    {
      "cell_type": "code",
      "source": [
        "df_res"
      ],
      "metadata": {
        "id": "xoao-L_GhqUz"
      },
      "execution_count": null,
      "outputs": []
    },
    {
      "cell_type": "markdown",
      "metadata": {
        "id": "SgSzSORY5eDW"
      },
      "source": []
    },
    {
      "cell_type": "markdown",
      "metadata": {
        "id": "A8CjR0dWRMTo"
      },
      "source": [
        "#Clusterization"
      ]
    },
    {
      "cell_type": "code",
      "execution_count": null,
      "metadata": {
        "id": "SwxwfpaLRQFd"
      },
      "outputs": [],
      "source": [
        "sample_order = dict()\n",
        "for cond in ['human', '151']:\n",
        "    samples = df_res.loc[df_res.index.str.contains(cond)].index\n",
        "    order = samples.sort_values()\n",
        "    order_laminar = order[order.str.contains('L')].tolist()\n",
        "    order_wm = order[order.str.contains('WM')].tolist()\n",
        "    sample_order[cond] = order_wm + order_laminar\n",
        "sample_order['all'] = sample_order['human'] + sample_order['151']\n",
        "df_res = df_res.loc[sample_order['all']]\n",
        "sns.set(font_scale=0.7)\n",
        "sns.clustermap(df_res, figsize=(15, 10), cmap=\"RdBu_r\", center=0, vmax=0.3, vmin=-0.3, metric='cosine', annot_kws={\"size\": 2}, row_cluster=False)"
      ]
    },
    {
      "cell_type": "markdown",
      "metadata": {
        "id": "ca7lW0385f_4"
      },
      "source": [
        "##CL"
      ]
    },
    {
      "cell_type": "code",
      "execution_count": null,
      "metadata": {
        "id": "sciG1R0g5ics"
      },
      "outputs": [],
      "source": [
        "from sklearn.cluster import KMeans\n",
        "from sklearn.metrics import silhouette_score"
      ]
    },
    {
      "cell_type": "code",
      "execution_count": null,
      "metadata": {
        "id": "MqB-K3Zm5qNY"
      },
      "outputs": [],
      "source": [
        "X = df_res"
      ]
    },
    {
      "cell_type": "code",
      "execution_count": null,
      "metadata": {
        "id": "l5IQ71d95xnb"
      },
      "outputs": [],
      "source": [
        "y = sns.clustermap(df_res, figsize=(15, 10), cmap=\"RdBu_r\", center=0, vmax=3, vmin=-3, metric='cosine', annot_kws={\"size\": 2}, row_cluster=False)"
      ]
    },
    {
      "cell_type": "code",
      "execution_count": null,
      "metadata": {
        "id": "vZxCzGkkRRpW"
      },
      "outputs": [],
      "source": [
        "from sklearn.cluster import SpectralClustering\n",
        "from sklearn.metrics.pairwise import pairwise_kernels\n",
        "aff_matrix = pairwise_kernels(df_res.T, metric='cosine') + 2\n",
        "n_clusters = 8\n",
        "clustering = SpectralClustering(n_clusters=n_clusters, affinity='precomputed', random_state=4)\n",
        "clustering.fit(aff_matrix)\n",
        "cl_order = {i: a for i, a in enumerate([0, 1, 2, 3, 4, 5, 6, 7])}\n",
        "labels = pd.Series(clustering.labels_, index=df_res.columns).map(cl_order).sort_values()\n",
        "order = labels.sort_values().index\n",
        "sns.set(font_scale=0.7)\n",
        "fig, ax = plt.subplots(figsize=(12, 8))\n",
        "y = sns.heatmap(df_res.loc[sample_order['all'], order], ax=ax, cmap=\"RdBu_r\", vmax=0.3, vmin=-0.3, center=0)"
      ]
    },
    {
      "cell_type": "code",
      "execution_count": null,
      "metadata": {
        "id": "3QF3nEBn7ueO"
      },
      "outputs": [],
      "source": [
        "aff_df = pd.DataFrame(aff_matrix, columns = df_res.columns, index = df_res.columns)\n",
        "aff_df.loc[labels.index, labels.index]"
      ]
    },
    {
      "cell_type": "code",
      "execution_count": null,
      "metadata": {
        "id": "5XuO6_ACGIjh"
      },
      "outputs": [],
      "source": [
        "labels = pd.read_csv(dir_path + 'genes_by_cluster.csv')"
      ]
    },
    {
      "cell_type": "code",
      "source": [
        "labels"
      ],
      "metadata": {
        "id": "IhB63U5YQmBD"
      },
      "execution_count": null,
      "outputs": []
    },
    {
      "cell_type": "code",
      "source": [
        "labels = labels.rename(columns={'Unnamed: 0': \"gene\"})\n",
        "labels"
      ],
      "metadata": {
        "id": "OGMEKg1iREB4"
      },
      "execution_count": null,
      "outputs": []
    },
    {
      "cell_type": "code",
      "execution_count": null,
      "metadata": {
        "id": "g262yBvGRSX4"
      },
      "outputs": [],
      "source": [
        "layers = ['L1', 'L2', 'L3', 'L4', 'L5', \"L6\", 'WM']\n",
        "cluster_color = ['red', 'blue', 'green',  'yellow', 'orange', 'purple', 'olive', 'pink', 'brown', 'black']\n",
        "clusters_labels = ['A', 'B', 'C', 'D', 'E', 'F', 'G', 'H', 'I']\n",
        "from matplotlib.patches import bbox_artist\n",
        "from mpl_toolkits.axes_grid1 import make_axes_locatable\n",
        "from matplotlib import ticker\n",
        "\n",
        "clusters = np.arange(n_clusters)\n",
        "colors = cluster_color[:n_clusters]\n",
        "fig, axes = plt.subplots(7, 1, figsize=(12, 4 * n_clusters), gridspec_kw={'hspace': 0.2})\n",
        "\n",
        "for ax, layer in zip(axes.flatten(), ['L1', 'L2', 'L3', 'L4', 'L5', 'L6', 'WM']):\n",
        "    df_layer = df_res.loc[df_res.index.str.contains(layer)]\n",
        "    sns.heatmap(df_layer.loc[:, order], ax=ax, cmap=\"RdBu_r\", vmax=0.3, vmin=-0.3, center=0, xticklabels=False)\n",
        "    # colorbar\n",
        "    divider = make_axes_locatable(ax)\n",
        "    cax = divider.append_axes('top', size='5%', pad=0.05)\n",
        "    cmap = mpl.colors.ListedColormap(colors)\n",
        "\n",
        "    cluster_size = labels.value_counts().loc[clusters].values\n",
        "    cluster_pos = cluster_size.cumsum()\n",
        "    bounds = [0] + list(cluster_pos)\n",
        "    norm = mpl.colors.BoundaryNorm(bounds, cmap.N)\n",
        "    fig.colorbar(\n",
        "        mpl.cm.ScalarMappable(cmap=cmap, norm=norm),\n",
        "        cax=cax,\n",
        "        ticks=bounds,\n",
        "        orientation='horizontal',\n",
        "        spacing='proportional'\n",
        "    )\n",
        "    cax.xaxis.set_major_locator(ticker.FixedLocator(cluster_pos - cluster_size / 2))\n",
        "    cax.xaxis.set_major_formatter(ticker.FixedFormatter(clusters))\n",
        "    cax.xaxis.tick_top()"
      ]
    },
    {
      "cell_type": "code",
      "execution_count": null,
      "metadata": {
        "id": "XRbfHS2HRQSg"
      },
      "outputs": [],
      "source": [
        "df_annotation = df_res.copy()\n",
        "df_annotation['layer'] = pb_age_norm.obs.layer\n",
        "df_annotation['condition'] = pb_age_norm.obs.condition\n",
        "layer_mean = df_annotation.groupby(['condition', 'layer']).mean()\n",
        "layer_mean.head()\n",
        "fig, axes = plt.subplots(n_clusters // 2, 2,  figsize=(14, 3.5 * n_clusters // 2), gridspec_kw={'hspace': 0.4})\n",
        "\n",
        "for label, ax in zip(clusters, axes.flatten()):\n",
        "    genes = labels[labels == label].index.tolist()\n",
        "\n",
        "    (\n",
        "        layer_mean[genes]\n",
        "        .mean(axis=1)\n",
        "        .reorder_levels(['layer', 'condition'])\n",
        "        .unstack().loc[layers]\n",
        "        .plot\n",
        "        .line(color={'human': 'tab:purple', 'spatial_libd_human': 'tab:orange'}, ax=ax, marker='.')\n",
        "    )\n",
        "    ax.set_title(f'Cluster {label}', fontsize=16)\n",
        "    ax.grid(False)\n",
        "    ax.hlines(0, xmin=0, xmax=6, colors='gray', linestyles='dashed')"
      ]
    },
    {
      "cell_type": "code",
      "execution_count": null,
      "metadata": {
        "id": "ag-RUu6GRQVR"
      },
      "outputs": [],
      "source": [
        "labels = pd.DataFrame(labels)"
      ]
    },
    {
      "cell_type": "code",
      "execution_count": null,
      "metadata": {
        "id": "R6mlFJUDUfgX"
      },
      "outputs": [],
      "source": [
        "labels = labels.rename(columns={0: \"cluster\"})\n",
        "labels"
      ]
    },
    {
      "cell_type": "code",
      "source": [
        "labels.to_csv(dir_path + 'genes_by_cluster.csv')"
      ],
      "metadata": {
        "id": "ZoX9f21k0o1O"
      },
      "execution_count": null,
      "outputs": []
    },
    {
      "cell_type": "code",
      "execution_count": null,
      "metadata": {
        "id": "HlugjudBRQX0"
      },
      "outputs": [],
      "source": [
        "pip install gseapy\n"
      ]
    },
    {
      "cell_type": "code",
      "execution_count": null,
      "metadata": {
        "id": "vbhJuo0kUeB2"
      },
      "outputs": [],
      "source": [
        "import gseapy\n",
        "from gseapy import barplot, dotplot"
      ]
    },
    {
      "cell_type": "code",
      "execution_count": null,
      "metadata": {
        "id": "WJyMMQd9uGkm"
      },
      "outputs": [],
      "source": [
        "list(labels['cluster'])"
      ]
    },
    {
      "cell_type": "code",
      "source": [
        "for i in labels['cluster']:\n",
        "\n",
        "  enr = gseapy.enrichr(gene_list = list(labels[labels['cluster'] == i].index),\n",
        "                     background = edge_r.gene,\n",
        "                     gene_sets=['GO_Biological_Process_2023'],\n",
        "                     organism='human',\n",
        "                     outdir=None)\n",
        "  enr_res = enr.results\n",
        "  enr_res = enr_res[enr_res['Adjusted P-value'] < 0.05]\n",
        "\n"
      ],
      "metadata": {
        "id": "wdfd_5Li3g81"
      },
      "execution_count": null,
      "outputs": []
    },
    {
      "cell_type": "code",
      "source": [
        " dotplot(enr_res,\n",
        "              column=\"Adjusted P-value\",\n",
        "              x='Gene_set',\n",
        "              size=2,\n",
        "              top_term=15,\n",
        "              figsize=(12,15),\n",
        "              title = \"GO analysis\",\n",
        "              xticklabels_rot=10,\n",
        "              show_ring=True,\n",
        "              marker='o',\n",
        "             )"
      ],
      "metadata": {
        "id": "1AGVp7xE6YyM"
      },
      "execution_count": null,
      "outputs": []
    },
    {
      "cell_type": "code",
      "source": [
        "labels.index = labels['gene']\n",
        "labels"
      ],
      "metadata": {
        "id": "DgYYNNn85h96"
      },
      "execution_count": null,
      "outputs": []
    },
    {
      "cell_type": "code",
      "source": [
        "labels.index = labels['gene']\n",
        "labels = labels.drop('gene', axis = 1)\n",
        "labels"
      ],
      "metadata": {
        "id": "MTv-Lr2fSMyW"
      },
      "execution_count": null,
      "outputs": []
    },
    {
      "cell_type": "code",
      "source": [
        "enr_res"
      ],
      "metadata": {
        "id": "eY21Y7Ww5iU4"
      },
      "execution_count": null,
      "outputs": []
    },
    {
      "cell_type": "markdown",
      "metadata": {
        "id": "Yx8akzgaUtzS"
      },
      "source": [
        "##Cluster 0"
      ]
    },
    {
      "cell_type": "code",
      "execution_count": null,
      "metadata": {
        "id": "TH7_dlPxUw3r"
      },
      "outputs": [],
      "source": [
        "cluster_id = 0\n",
        "enr = gseapy.enrichr(gene_list = list(labels[labels['cluster'] == cluster_id].index),\n",
        "                     background = edge_r.gene,\n",
        "                     gene_sets=['Disease_Perturbations_from_GEO_down',\n",
        "                                'Disease_Perturbations_from_GEO_up',\n",
        "                                'GO_Molecular_Function_2023'],\n",
        "                     organism='human',\n",
        "                     outdir=None)\n",
        "enr_res = enr.results\n",
        "enr_res = enr_res[enr_res['Adjusted P-value'] < 0.05]\n",
        "dotplot(enr_res,\n",
        "              column=\"Adjusted P-value\",\n",
        "              x='Gene_set',\n",
        "              size=2,\n",
        "              top_term=15,\n",
        "              figsize=(12,15),\n",
        "              title = \"GO analysis\",\n",
        "              xticklabels_rot=10,\n",
        "              show_ring=True,\n",
        "              marker='o',\n",
        "             )"
      ]
    },
    {
      "cell_type": "code",
      "execution_count": null,
      "metadata": {
        "id": "9uF0BVu_U2Le"
      },
      "outputs": [],
      "source": [
        "cluster_id = 0\n",
        "enr = gseapy.enrichr(gene_list = list(labels[labels['cluster'] == cluster_id].index),\n",
        "                     background = df.index,\n",
        "                     gene_sets=['SynGO_2022'],\n",
        "                     organism='human',\n",
        "                     outdir=None)\n",
        "enr_res = enr.results\n",
        "enr_res = enr_res[enr_res['Adjusted P-value'] < 0.05]\n",
        "dotplot(enr_res,\n",
        "              column=\"Adjusted P-value\",\n",
        "              x='Gene_set',\n",
        "              size=2,\n",
        "              top_term=10,\n",
        "              figsize=(3,5),\n",
        "              title = \"GO analysis\",\n",
        "              xticklabels_rot=10,\n",
        "              show_ring=True,\n",
        "              marker='o',\n",
        "             )"
      ]
    },
    {
      "cell_type": "code",
      "execution_count": null,
      "metadata": {
        "id": "8bHwhXtIVYm4"
      },
      "outputs": [],
      "source": [
        "cluster_id = 0\n",
        "enr = gseapy.enrichr(gene_list = list(labels[labels['cluster'] == cluster_id].index),\n",
        "                     background = df.index,\n",
        "                     gene_sets=['Azimuth_Cell_Types_2021'],\n",
        "                     organism='human',\n",
        "                     outdir=None)\n",
        "enr_res = enr.results\n",
        "enr_res = enr_res[enr_res['Adjusted P-value'] < 0.05]\n",
        "dotplot(enr_res,\n",
        "              column=\"Adjusted P-value\",\n",
        "              x='Gene_set',\n",
        "              size=2,\n",
        "              top_term=10,\n",
        "              figsize=(3,5),\n",
        "              title = \"GO analysis\",\n",
        "              xticklabels_rot=10,\n",
        "              show_ring=True,\n",
        "              marker='o',\n",
        "             )"
      ]
    },
    {
      "cell_type": "code",
      "execution_count": null,
      "metadata": {
        "id": "0HnQgpSiEKQo"
      },
      "outputs": [],
      "source": [
        "cluster_id = 0\n",
        "enr = gseapy.enrichr(gene_list = list(labels[labels['cluster'] == cluster_id].index),\n",
        "                     background = edge_r.gene,\n",
        "                     gene_sets=['Disease_Perturbations_from_GEO_down',\n",
        "                                'Disease_Perturbations_from_GEO_up',\n",
        "                                'Disease_Signatures_from_GEO_down_2014',\n",
        "                                'Disease_Signatures_from_GEO_up_2014'],\n",
        "                     organism='human',\n",
        "                     outdir=None)\n",
        "enr_res = enr.results\n",
        "enr_res = enr_res[enr_res['Adjusted P-value'] < 0.05]\n",
        "dotplot(enr_res,\n",
        "              column=\"Adjusted P-value\",\n",
        "              x='Gene_set',\n",
        "              size=2,\n",
        "              top_term=10,\n",
        "              figsize=(12,15),\n",
        "              title = \"GO analysis\",\n",
        "              xticklabels_rot=10,\n",
        "              show_ring=True,\n",
        "              marker='o',\n",
        "             )"
      ]
    },
    {
      "cell_type": "code",
      "source": [
        "cluster_id = 0\n",
        "enr = gseapy.enrichr(gene_list = list(labels[labels['cluster'] == cluster_id].index),\n",
        "                     background = edge_r.gene,\n",
        "                     gene_sets=['GO_Biological_Process_2023'],\n",
        "                     organism='human',\n",
        "                     outdir=None)\n",
        "enr_res = enr.results\n",
        "enr_res_0 = enr_res[enr_res['Adjusted P-value'] < 0.05]\n",
        "enr_res_0['cluster'] = '0'\n",
        "enr_res_0"
      ],
      "metadata": {
        "id": "Crcydp4XBAGy"
      },
      "execution_count": null,
      "outputs": []
    },
    {
      "cell_type": "markdown",
      "metadata": {
        "id": "JOSaFnU_V76E"
      },
      "source": [
        "##Cluster 1"
      ]
    },
    {
      "cell_type": "code",
      "execution_count": null,
      "metadata": {
        "id": "VJ-02vU-V-Yw"
      },
      "outputs": [],
      "source": [
        "cluster_id = 1\n",
        "enr = gseapy.enrichr(gene_list = list(labels[labels['cluster'] == cluster_id].index),\n",
        "                     background = edge_r.gene,\n",
        "                     gene_sets=['GO_Biological_Process_2023',\n",
        "                                'GO_Cellular_Component_2023',\n",
        "                                'GO_Molecular_Function_2023'],\n",
        "                     organism='human',\n",
        "                     outdir=None)\n",
        "enr_res = enr.results\n",
        "enr_res_1 = enr_res[enr_res['Adjusted P-value'] < 0.05]\n",
        "dotplot(enr_res_1,\n",
        "              column=\"Adjusted P-value\",\n",
        "              x='Gene_set',\n",
        "              size=2,\n",
        "              top_term=10,\n",
        "              figsize=(12,15),\n",
        "              title = \"GO analysis\",\n",
        "              xticklabels_rot=10,\n",
        "              show_ring=True,\n",
        "              marker='o',\n",
        "             )"
      ]
    },
    {
      "cell_type": "code",
      "source": [
        "cluster_id = 1\n",
        "enr = gseapy.enrichr(gene_list = list(labels[labels['cluster'] == cluster_id].index),\n",
        "                     background = edge_r.gene,\n",
        "                     gene_sets=['GO_Biological_Process_2023'],\n",
        "                     organism='human',\n",
        "                     outdir=None)\n",
        "enr_res = enr.results\n",
        "enr_res_1 = enr_res[enr_res['Adjusted P-value'] < 0.05]\n",
        "enr_res_1['cluster'] = '1'\n",
        "enr_res_1"
      ],
      "metadata": {
        "id": "TOWX9U-H98k9"
      },
      "execution_count": null,
      "outputs": []
    },
    {
      "cell_type": "code",
      "source": [
        "cluster_id = 2\n",
        "enr = gseapy.enrichr(gene_list = list(labels[labels['cluster'] == cluster_id].index),\n",
        "                     background = edge_r.gene,\n",
        "                     gene_sets=['GO_Biological_Process_2023'],\n",
        "                     organism='human',\n",
        "                     outdir=None)\n",
        "enr_res = enr.results\n",
        "enr_res_2 = enr_res[enr_res['Adjusted P-value'] < 0.05]\n",
        "enr_res_2['cluster'] = '2'\n",
        "enr_res_2"
      ],
      "metadata": {
        "id": "ZRkjrhvS-RQ2"
      },
      "execution_count": null,
      "outputs": []
    },
    {
      "cell_type": "code",
      "source": [
        "cluster_id = 3\n",
        "enr = gseapy.enrichr(gene_list = list(labels[labels['cluster'] == cluster_id].index),\n",
        "                     background = edge_r.gene,\n",
        "                     gene_sets=['GO_Biological_Process_2023'],\n",
        "                     organism='human',\n",
        "                     outdir=None)\n",
        "enr_res = enr.results\n",
        "enr_res_3 = enr_res[enr_res['Adjusted P-value'] < 0.05]\n",
        "enr_res_3['cluster'] = '3'\n",
        "enr_res_3"
      ],
      "metadata": {
        "id": "FuemXAjV-RbQ"
      },
      "execution_count": null,
      "outputs": []
    },
    {
      "cell_type": "code",
      "source": [
        "cluster_id = 4\n",
        "enr = gseapy.enrichr(gene_list = list(labels[labels['cluster'] == cluster_id].index),\n",
        "                     background = edge_r.gene,\n",
        "                     gene_sets=['GO_Biological_Process_2023'],\n",
        "                     organism='human',\n",
        "                     outdir=None)\n",
        "enr_res = enr.results\n",
        "enr_res_4 = enr_res[enr_res['Adjusted P-value'] < 0.05]\n",
        "enr_res_4['cluster'] = '4'\n",
        "enr_res_4"
      ],
      "metadata": {
        "id": "eko5iXAS-RfB"
      },
      "execution_count": null,
      "outputs": []
    },
    {
      "cell_type": "code",
      "source": [
        "cluster_id = 5\n",
        "enr = gseapy.enrichr(gene_list = list(labels[labels['cluster'] == cluster_id].index),\n",
        "                     background = edge_r.gene,\n",
        "                     gene_sets=['GO_Biological_Process_2023'],\n",
        "                     organism='human',\n",
        "                     outdir=None)\n",
        "enr_res = enr.results\n",
        "enr_res_5 = enr_res[enr_res['Adjusted P-value'] < 0.05]\n",
        "enr_res_5['cluster'] = '5'\n",
        "enr_res_5"
      ],
      "metadata": {
        "id": "8wRkvnIM-Rhd"
      },
      "execution_count": null,
      "outputs": []
    },
    {
      "cell_type": "code",
      "source": [
        "cluster_id = 6\n",
        "enr = gseapy.enrichr(gene_list = list(labels[labels['cluster'] == cluster_id].index),\n",
        "                     background = edge_r.gene,\n",
        "                     gene_sets=['GO_Biological_Process_2023'],\n",
        "                     organism='human',\n",
        "                     outdir=None)\n",
        "enr_res = enr.results\n",
        "enr_res_6 = enr_res[enr_res['Adjusted P-value'] < 0.05]\n",
        "enr_res_6['cluster'] = '6'\n",
        "enr_res_6"
      ],
      "metadata": {
        "id": "hi9BIfFfAmI0"
      },
      "execution_count": null,
      "outputs": []
    },
    {
      "cell_type": "code",
      "source": [
        "cluster_id = 7\n",
        "enr = gseapy.enrichr(gene_list = list(labels[labels['cluster'] == cluster_id].index),\n",
        "                     background = edge_r.gene,\n",
        "                     gene_sets=['GO_Biological_Process_2023'],\n",
        "                     organism='human',\n",
        "                     outdir=None)\n",
        "enr_res = enr.results\n",
        "enr_res_7 = enr_res[enr_res['Adjusted P-value'] < 0.05]\n",
        "enr_res_7['cluster'] = '7'\n",
        "enr_res_7"
      ],
      "metadata": {
        "id": "vzZADZJHArlC"
      },
      "execution_count": null,
      "outputs": []
    },
    {
      "cell_type": "code",
      "source": [
        "enr_res_0 = enr_res_0.sort_values(by = 'Adjusted P-value', ascending = True)\n",
        "enr_res_0 = enr_res_0.head(5)\n",
        "\n",
        "enr_res_1 = enr_res_1.sort_values(by = 'Adjusted P-value', ascending = True)\n",
        "enr_res_1 = enr_res_1.head(5)\n",
        "\n",
        "enr_res_2 = enr_res_2.sort_values(by = 'Adjusted P-value', ascending = True)\n",
        "enr_res_2 = enr_res_2.head(5)\n",
        "\n",
        "enr_res_3 = enr_res_3.sort_values(by = 'Adjusted P-value', ascending = True)\n",
        "enr_res_3 = enr_res_3.head(5)\n",
        "\n",
        "enr_res_4 = enr_res_4.sort_values(by = 'Adjusted P-value', ascending = True)\n",
        "enr_res_4 = enr_res_4.head(5)\n",
        "\n",
        "enr_res_5 = enr_res_5.sort_values(by = 'Adjusted P-value', ascending = True)\n",
        "enr_res_5 = enr_res_5.head(5)\n",
        "\n",
        "enr_res_6 = enr_res_6.sort_values(by = 'Adjusted P-value', ascending = True)\n",
        "enr_res_6 = enr_res_6.head(5)"
      ],
      "metadata": {
        "id": "kpiyf0i3BtRA"
      },
      "execution_count": null,
      "outputs": []
    },
    {
      "cell_type": "code",
      "source": [],
      "metadata": {
        "id": "ty79JCUYBtb9"
      },
      "execution_count": null,
      "outputs": []
    },
    {
      "cell_type": "code",
      "source": [],
      "metadata": {
        "id": "lLynTTmTBte4"
      },
      "execution_count": null,
      "outputs": []
    },
    {
      "cell_type": "code",
      "source": [],
      "metadata": {
        "id": "DlyHKCq0BtkS"
      },
      "execution_count": null,
      "outputs": []
    },
    {
      "cell_type": "code",
      "source": [
        "enrich_res = pd.concat([enr_res_0, enr_res_1, enr_res_2, enr_res_3, enr_res_4, enr_res_5, enr_res_6, enr_res_7])\n",
        "enrich_res"
      ],
      "metadata": {
        "id": "Aw3xidSZ-Rke"
      },
      "execution_count": null,
      "outputs": []
    },
    {
      "cell_type": "code",
      "source": [
        "fig = plt.figure(figsize=(7, 13), dpi=100)\n",
        "\n",
        "ax = sns.scatterplot(\n",
        "    data=enrich_res,\n",
        "    x='cluster',\n",
        "    y='Term',\n",
        "    hue='Adjusted P-value',\n",
        "    palette = 'winter',\n",
        "    sizes=(200)\n",
        ")\n",
        "\n",
        "ax.tick_params(labelsize=10)\n",
        "ax.legend(fontsize=15)\n",
        "ax.set_xlabel(\"Cluster label\",fontsize=15)\n",
        "ax.set_ylabel(\"\", fontsize=10)\n",
        "ax.grid(False)\n",
        "\n",
        "sns.move_legend(ax, \"upper left\", bbox_to_anchor=(1, 1))"
      ],
      "metadata": {
        "id": "rJerMATr_zz4"
      },
      "execution_count": null,
      "outputs": []
    },
    {
      "cell_type": "code",
      "source": [],
      "metadata": {
        "id": "NhfS0oke_z8w"
      },
      "execution_count": null,
      "outputs": []
    },
    {
      "cell_type": "code",
      "execution_count": null,
      "metadata": {
        "id": "DIXrcM7BV-qF"
      },
      "outputs": [],
      "source": [
        "cluster_id = 1\n",
        "enr = gseapy.enrichr(gene_list = list(labels[labels['cluster'] == cluster_id].index),\n",
        "                     background = df.index,\n",
        "                     gene_sets=['SynGO_2022'],\n",
        "                     organism='human',\n",
        "                     outdir=None)\n",
        "enr_res = enr.results\n",
        "enr_res = enr_res[enr_res['Adjusted P-value'] < 0.05]\n",
        "dotplot(enr_res,\n",
        "              column=\"Adjusted P-value\",\n",
        "              x='Gene_set',\n",
        "              size=2,\n",
        "              top_term=10,\n",
        "              figsize=(3,5),\n",
        "              title = \"GO analysis\",\n",
        "              xticklabels_rot=10,\n",
        "              show_ring=True,\n",
        "              marker='o',\n",
        "             )"
      ]
    },
    {
      "cell_type": "code",
      "execution_count": null,
      "metadata": {
        "id": "XqHsj5WqV-yh"
      },
      "outputs": [],
      "source": [
        "cluster_id = 1\n",
        "enr = gseapy.enrichr(gene_list = list(labels[labels['cluster'] == cluster_id].index),\n",
        "                     background = df.index,\n",
        "                     gene_sets=['Azimuth_Cell_Types_2021'],\n",
        "                     organism='human',\n",
        "                     outdir=None)\n",
        "enr_res = enr.results\n",
        "enr_res = enr_res[enr_res['Adjusted P-value'] < 0.05]\n",
        "dotplot(enr_res,\n",
        "              column=\"Adjusted P-value\",\n",
        "              x='Gene_set',\n",
        "              size=2,\n",
        "              top_term=10,\n",
        "              figsize=(3,5),\n",
        "              title = \"GO analysis\",\n",
        "              xticklabels_rot=10,\n",
        "              show_ring=True,\n",
        "              marker='o',\n",
        "             )"
      ]
    },
    {
      "cell_type": "code",
      "execution_count": null,
      "metadata": {
        "id": "8M17FhvPSsMh"
      },
      "outputs": [],
      "source": [
        "edge_r"
      ]
    },
    {
      "cell_type": "code",
      "execution_count": null,
      "metadata": {
        "id": "48LLrUbZF6mW"
      },
      "outputs": [],
      "source": [
        "cluster_id = 1\n",
        "enr = gseapy.enrichr(gene_list = list(labels[labels['cluster'] == cluster_id].index),\n",
        "                     background = edge_r.gene,\n",
        "                     gene_sets=['Disease_Perturbations_from_GEO_down',\n",
        "                                'Disease_Perturbations_from_GEO_up',\n",
        "                                'Disease_Signatures_from_GEO_down_2014',\n",
        "                                'Disease_Signatures_from_GEO_up_2014'],\n",
        "                     organism='human',\n",
        "                     outdir=None)\n",
        "enr_res = enr.results\n",
        "enr_res = enr_res[enr_res['Adjusted P-value'] < 0.05]\n",
        "dotplot(enr_res,\n",
        "              column=\"Adjusted P-value\",\n",
        "              x='Gene_set',\n",
        "              size=2,\n",
        "              top_term=10,\n",
        "              figsize=(12,15),\n",
        "              title = \"GO analysis\",\n",
        "              xticklabels_rot=10,\n",
        "              show_ring=True,\n",
        "              marker='o',\n",
        "             )"
      ]
    },
    {
      "cell_type": "markdown",
      "metadata": {
        "id": "GZACz-P3WQcI"
      },
      "source": [
        "##Cluster 2"
      ]
    },
    {
      "cell_type": "code",
      "execution_count": null,
      "metadata": {
        "id": "UBCg2Lj4WTPg"
      },
      "outputs": [],
      "source": [
        "cluster_id = 2\n",
        "enr = gseapy.enrichr(gene_list = list(labels[labels['cluster'] == cluster_id].index),\n",
        "                     background = edge_r.gene,\n",
        "                     gene_sets=['GO_Biological_Process_2023',\n",
        "                                'GO_Cellular_Component_2023',\n",
        "                                'GO_Molecular_Function_2023'],\n",
        "                     organism='human',\n",
        "                     outdir=None)\n",
        "enr_res = enr.results\n",
        "enr_res = enr_res[enr_res['Adjusted P-value'] < 0.05]\n",
        "dotplot(enr_res,\n",
        "              column=\"Adjusted P-value\",\n",
        "              x='Gene_set',\n",
        "              size=2,\n",
        "              top_term=10,\n",
        "              figsize=(12,15),\n",
        "              title = \"GO analysis\",\n",
        "              xticklabels_rot=10,\n",
        "              show_ring=True,\n",
        "              marker='o',\n",
        "             )"
      ]
    },
    {
      "cell_type": "code",
      "execution_count": null,
      "metadata": {
        "id": "z5mQ5kkFWTbw"
      },
      "outputs": [],
      "source": [
        "cluster_id = 2\n",
        "enr = gseapy.enrichr(gene_list = list(labels[labels['cluster'] == cluster_id].index),\n",
        "                     background = edge_r.gene,\n",
        "                     gene_sets=['SynGO_2022'],\n",
        "                     organism='human',\n",
        "                     outdir=None)\n",
        "enr_res = enr.results\n",
        "enr_res = enr_res[enr_res['Adjusted P-value'] < 0.05]\n",
        "dotplot(enr_res,\n",
        "              column=\"Adjusted P-value\",\n",
        "              x='Gene_set',\n",
        "              size=2,\n",
        "              top_term=10,\n",
        "              figsize=(3,5),\n",
        "              title = \"GO analysis\",\n",
        "              xticklabels_rot=10,\n",
        "              show_ring=True,\n",
        "              marker='o',\n",
        "             )"
      ]
    },
    {
      "cell_type": "code",
      "execution_count": null,
      "metadata": {
        "id": "OyxRFKovWTjY"
      },
      "outputs": [],
      "source": [
        "cluster_id = 2\n",
        "enr = gseapy.enrichr(gene_list = list(labels[labels['cluster'] == cluster_id].index),\n",
        "                     background = edge_r.gene,\n",
        "                     gene_sets=['Azimuth_Cell_Types_2021'],\n",
        "                     organism='human',\n",
        "                     outdir=None)\n",
        "enr_res = enr.results\n",
        "enr_res = enr_res[enr_res['Adjusted P-value'] < 0.05]\n",
        "dotplot(enr_res,\n",
        "              column=\"Adjusted P-value\",\n",
        "              x='Gene_set',\n",
        "              size=2,\n",
        "              top_term=10,\n",
        "              figsize=(3,5),\n",
        "              title = \"GO analysis\",\n",
        "              xticklabels_rot=10,\n",
        "              show_ring=True,\n",
        "              marker='o',\n",
        "             )"
      ]
    },
    {
      "cell_type": "code",
      "execution_count": null,
      "metadata": {
        "id": "yHE54nV2GGUM"
      },
      "outputs": [],
      "source": [
        "cluster_id = 2\n",
        "enr = gseapy.enrichr(gene_list = list(labels[labels['cluster'] == cluster_id].index),\n",
        "                     background = edge_r.gene,\n",
        "                     gene_sets=['Disease_Perturbations_from_GEO_down',\n",
        "                                'Disease_Perturbations_from_GEO_up',\n",
        "                                'Disease_Signatures_from_GEO_down_2014',\n",
        "                                'Disease_Signatures_from_GEO_up_2014'],\n",
        "                     organism='human',\n",
        "                     outdir=None)\n",
        "enr_res = enr.results\n",
        "enr_res = enr_res[enr_res['Adjusted P-value'] < 0.05]\n",
        "dotplot(enr_res,\n",
        "              column=\"Adjusted P-value\",\n",
        "              x='Gene_set',\n",
        "              size=2,\n",
        "              top_term=10,\n",
        "              figsize=(12,15),\n",
        "              title = \"GO analysis\",\n",
        "              xticklabels_rot=10,\n",
        "              show_ring=True,\n",
        "              marker='o',\n",
        "             )"
      ]
    },
    {
      "cell_type": "markdown",
      "metadata": {
        "id": "3PMuHxXDWjHB"
      },
      "source": [
        "##Cluster 3"
      ]
    },
    {
      "cell_type": "code",
      "execution_count": null,
      "metadata": {
        "id": "jmqND2J4WlRl"
      },
      "outputs": [],
      "source": [
        "cluster_id = 3\n",
        "enr = gseapy.enrichr(gene_list = list(labels[labels['cluster'] == cluster_id].index),\n",
        "                     background = edge_r.gene,\n",
        "                     gene_sets=['GO_Biological_Process_2023',\n",
        "                                'GO_Cellular_Component_2023',\n",
        "                                'GO_Molecular_Function_2023'],\n",
        "                     organism='human',\n",
        "                     outdir=None)\n",
        "enr_res = enr.results\n",
        "enr_res = enr_res[enr_res['Adjusted P-value'] < 0.05]\n",
        "dotplot(enr_res,\n",
        "              column=\"Adjusted P-value\",\n",
        "              x='Gene_set',\n",
        "              size=2,\n",
        "              top_term=10,\n",
        "              figsize=(12,15),\n",
        "              title = \"GO analysis\",\n",
        "              xticklabels_rot=10,\n",
        "              show_ring=True,\n",
        "              marker='o',\n",
        "             )"
      ]
    },
    {
      "cell_type": "code",
      "source": [
        "enr_res"
      ],
      "metadata": {
        "id": "Y9G-756gJ-Uc"
      },
      "execution_count": null,
      "outputs": []
    },
    {
      "cell_type": "code",
      "execution_count": null,
      "metadata": {
        "id": "AhEWYl2aWlvG"
      },
      "outputs": [],
      "source": [
        "cluster_id = 3\n",
        "enr = gseapy.enrichr(gene_list = list(labels[labels['cluster'] == cluster_id].index),\n",
        "                     background = df.index,\n",
        "                     gene_sets=['SynGO_2022'],\n",
        "                     organism='human',\n",
        "                     outdir=None)\n",
        "enr_res = enr.results\n",
        "enr_res = enr_res[enr_res['Adjusted P-value'] < 0.05]\n",
        "dotplot(enr_res,\n",
        "              column=\"Adjusted P-value\",\n",
        "              x='Gene_set',\n",
        "              size=2,\n",
        "              top_term=10,\n",
        "              figsize=(3,5),\n",
        "              title = \"GO analysis\",\n",
        "              xticklabels_rot=10,\n",
        "              show_ring=True,\n",
        "              marker='o',\n",
        "             )"
      ]
    },
    {
      "cell_type": "code",
      "execution_count": null,
      "metadata": {
        "id": "2CvriKWoWmIQ"
      },
      "outputs": [],
      "source": [
        "cluster_id = 3\n",
        "enr = gseapy.enrichr(gene_list = list(labels[labels['cluster'] == cluster_id].index),\n",
        "                     background = df.index,\n",
        "                     gene_sets=['Azimuth_Cell_Types_2021'],\n",
        "                     organism='human',\n",
        "                     outdir=None)\n",
        "enr_res = enr.results\n",
        "enr_res = enr_res[enr_res['Adjusted P-value'] < 0.05]\n",
        "dotplot(enr_res,\n",
        "              column=\"Adjusted P-value\",\n",
        "              x='Gene_set',\n",
        "              size=2,\n",
        "              top_term=10,\n",
        "              figsize=(3,5),\n",
        "              title = \"GO analysis\",\n",
        "              xticklabels_rot=10,\n",
        "              show_ring=True,\n",
        "              marker='o',\n",
        "             )"
      ]
    },
    {
      "cell_type": "code",
      "execution_count": null,
      "metadata": {
        "id": "lr5zCt9JGQTU"
      },
      "outputs": [],
      "source": [
        "cluster_id = 3\n",
        "enr = gseapy.enrichr(gene_list = list(labels[labels['cluster'] == cluster_id].index),\n",
        "                     background = edge_r.gene,\n",
        "                     gene_sets=['Disease_Perturbations_from_GEO_down',\n",
        "                                'Disease_Perturbations_from_GEO_up',\n",
        "                                'Disease_Signatures_from_GEO_down_2014',\n",
        "                                'Disease_Signatures_from_GEO_up_2014'],\n",
        "                     organism='human',\n",
        "                     outdir=None)\n",
        "enr_res = enr.results\n",
        "enr_res = enr_res[enr_res['Adjusted P-value'] < 0.05]\n",
        "dotplot(enr_res,\n",
        "              column=\"Adjusted P-value\",\n",
        "              x='Gene_set',\n",
        "              size=2,\n",
        "              top_term=10,\n",
        "              figsize=(12,15),\n",
        "              title = \"GO analysis\",\n",
        "              xticklabels_rot=10,\n",
        "              show_ring=True,\n",
        "              marker='o',\n",
        "             )"
      ]
    },
    {
      "cell_type": "markdown",
      "metadata": {
        "id": "FvDJsMNlW06i"
      },
      "source": [
        "##CLuster 4"
      ]
    },
    {
      "cell_type": "code",
      "execution_count": null,
      "metadata": {
        "id": "rYMwXUSvb0qf"
      },
      "outputs": [],
      "source": [
        "labels_4 = labels.loc[labels.cluster == 4]\n",
        "labels_4"
      ]
    },
    {
      "cell_type": "code",
      "source": [
        "labels"
      ],
      "metadata": {
        "id": "k45U5TeBRhQR"
      },
      "execution_count": null,
      "outputs": []
    },
    {
      "cell_type": "code",
      "execution_count": null,
      "metadata": {
        "id": "AZaGr5rOWzwN"
      },
      "outputs": [],
      "source": [
        "cluster_id = 4\n",
        "enr = gseapy.enrichr(gene_list = list(labels[labels['cluster'] == cluster_id].index),\n",
        "                     background = edge_r.gene,\n",
        "                     gene_sets=['GO_Biological_Process_2023',\n",
        "                                'GO_Cellular_Component_2023',\n",
        "                                'GO_Molecular_Function_2023'],\n",
        "                     organism='human',\n",
        "                     outdir=None)\n",
        "enr_res = enr.results\n",
        "enr_res = enr_res[enr_res['Adjusted P-value'] < 0.05]\n",
        "dotplot(enr_res,\n",
        "              column=\"Adjusted P-value\",\n",
        "              x='Gene_set',\n",
        "              size=2,\n",
        "              top_term=10,\n",
        "              figsize=(12,15),\n",
        "              title = \"GO analysis\",\n",
        "              xticklabels_rot=10,\n",
        "              show_ring=True,\n",
        "              marker='o',\n",
        "             )"
      ]
    },
    {
      "cell_type": "code",
      "source": [
        "enr_res"
      ],
      "metadata": {
        "id": "v_7-NtOwS0kP"
      },
      "execution_count": null,
      "outputs": []
    },
    {
      "cell_type": "code",
      "execution_count": null,
      "metadata": {
        "id": "9oSYMqdnW3BU"
      },
      "outputs": [],
      "source": [
        "cluster_id = 4\n",
        "enr = gseapy.enrichr(gene_list = list(labels[labels['cluster'] == cluster_id].index),\n",
        "                     background = df.index,\n",
        "                     gene_sets=['SynGO_2022'],\n",
        "                     organism='human',\n",
        "                     outdir=None)\n",
        "enr_res = enr.results\n",
        "enr_res = enr_res[enr_res['Adjusted P-value'] < 0.05]\n",
        "dotplot(enr_res,\n",
        "              column=\"Adjusted P-value\",\n",
        "              x='Gene_set',\n",
        "              size=2,\n",
        "              top_term=10,\n",
        "              figsize=(3,5),\n",
        "              title = \"GO analysis\",\n",
        "              xticklabels_rot=10,\n",
        "              show_ring=True,\n",
        "              marker='o',\n",
        "             )"
      ]
    },
    {
      "cell_type": "code",
      "execution_count": null,
      "metadata": {
        "id": "fuauKYJ3W3NC"
      },
      "outputs": [],
      "source": [
        "cluster_id = 4\n",
        "enr = gseapy.enrichr(gene_list = list(labels[labels['cluster'] == cluster_id].index),\n",
        "                     background = df.index,\n",
        "                     gene_sets=['Azimuth_Cell_Types_2021'],\n",
        "                     organism='human',\n",
        "                     outdir=None)\n",
        "enr_res = enr.results\n",
        "enr_res = enr_res[enr_res['Adjusted P-value'] < 0.05]\n",
        "dotplot(enr_res,\n",
        "              column=\"Adjusted P-value\",\n",
        "              x='Gene_set',\n",
        "              size=2,\n",
        "              top_term=10,\n",
        "              figsize=(3,5),\n",
        "              title = \"GO analysis\",\n",
        "              xticklabels_rot=10,\n",
        "              show_ring=True,\n",
        "              marker='o',\n",
        "             )"
      ]
    },
    {
      "cell_type": "code",
      "execution_count": null,
      "metadata": {
        "id": "isDaRPDcH9cV"
      },
      "outputs": [],
      "source": [
        "cluster_id = 4\n",
        "enr = gseapy.enrichr(gene_list = list(labels[labels['cluster'] == cluster_id].index),\n",
        "                     background = edge_r.gene,\n",
        "                     gene_sets=['Disease_Perturbations_from_GEO_down',\n",
        "                                'Disease_Perturbations_from_GEO_up',\n",
        "                                'Disease_Signatures_from_GEO_down_2014',\n",
        "                                'Disease_Signatures_from_GEO_up_2014'],\n",
        "                     organism='human',\n",
        "                     outdir=None)\n",
        "enr_res = enr.results\n",
        "enr_res = enr_res[enr_res['Adjusted P-value'] < 0.05]\n",
        "dotplot(enr_res,\n",
        "              column=\"Adjusted P-value\",\n",
        "              x='Gene_set',\n",
        "              size=2,\n",
        "              top_term=10,\n",
        "              figsize=(12,15),\n",
        "              title = \"GO analysis\",\n",
        "              xticklabels_rot=10,\n",
        "              show_ring=True,\n",
        "              marker='o',\n",
        "             )"
      ]
    },
    {
      "cell_type": "code",
      "execution_count": null,
      "metadata": {
        "id": "Gab5evQLNKCx"
      },
      "outputs": [],
      "source": [
        "cluster_id = 4\n",
        "enr = gseapy.enrichr(gene_list = list(labels[labels['cluster'] == cluster_id].index),\n",
        "                     background = edge_r.gene,\n",
        "                     gene_sets=['DisGeNET'],\n",
        "                     organism='human',\n",
        "                     outdir=None)\n",
        "enr_res = enr.results\n",
        "enr_res = enr_res[enr_res['Adjusted P-value'] < 0.05]\n",
        "dotplot(enr_res,\n",
        "              column=\"Adjusted P-value\",\n",
        "              x='Gene_set',\n",
        "              size=2,\n",
        "              top_term=10,\n",
        "              figsize=(12,15),\n",
        "              title = \"GO analysis\",\n",
        "              xticklabels_rot=10,\n",
        "              show_ring=True,\n",
        "              marker='o',\n",
        "             )"
      ]
    },
    {
      "cell_type": "markdown",
      "metadata": {
        "id": "t1tYb4w2XDtQ"
      },
      "source": [
        "##Cluster 5"
      ]
    },
    {
      "cell_type": "code",
      "execution_count": null,
      "metadata": {
        "id": "N5Ky2RBpXFG9"
      },
      "outputs": [],
      "source": [
        "cluster_id = 5\n",
        "enr = gseapy.enrichr(gene_list = list(labels[labels['cluster'] == cluster_id].index),\n",
        "                     background = edge_r.gene,\n",
        "                     gene_sets=['GO_Biological_Process_2023',\n",
        "                                'GO_Cellular_Component_2023',\n",
        "                                'GO_Molecular_Function_2023'],\n",
        "                     organism='human',\n",
        "                     outdir=None)\n",
        "enr_res = enr.results\n",
        "enr_res = enr_res[enr_res['Adjusted P-value'] < 0.05]\n",
        "dotplot(enr_res,\n",
        "              column=\"Adjusted P-value\",\n",
        "              x='Gene_set',\n",
        "              size=2,\n",
        "              top_term=10,\n",
        "              figsize=(12,15),\n",
        "              title = \"GO analysis\",\n",
        "              xticklabels_rot=10,\n",
        "              show_ring=True,\n",
        "              marker='o',\n",
        "             )"
      ]
    },
    {
      "cell_type": "code",
      "source": [
        "enr_res"
      ],
      "metadata": {
        "id": "-kCtzR1vZZY5"
      },
      "execution_count": null,
      "outputs": []
    },
    {
      "cell_type": "code",
      "execution_count": null,
      "metadata": {
        "id": "ycRO9_InXFRa"
      },
      "outputs": [],
      "source": [
        "cluster_id = 5\n",
        "enr = gseapy.enrichr(gene_list = list(labels[labels['cluster'] == cluster_id].index),\n",
        "                     background = edge_r.gene,\n",
        "                     gene_sets=['SynGO_2022'],\n",
        "                     organism='human',\n",
        "                     outdir=None)\n",
        "enr_res = enr.results\n",
        "enr_res = enr_res[enr_res['Adjusted P-value'] < 0.05]\n",
        "dotplot(enr_res,\n",
        "              column=\"Adjusted P-value\",\n",
        "              x='Gene_set',\n",
        "              size=2,\n",
        "              top_term=15,\n",
        "              figsize=(10,15),\n",
        "              title = \"GO analysis\",\n",
        "              xticklabels_rot=10,\n",
        "              show_ring=True,\n",
        "              marker='o',\n",
        "             )"
      ]
    },
    {
      "cell_type": "code",
      "execution_count": null,
      "metadata": {
        "id": "43kQRQDOXFV9"
      },
      "outputs": [],
      "source": [
        "cluster_id = 5\n",
        "enr = gseapy.enrichr(gene_list = list(labels[labels['cluster'] == cluster_id].index),\n",
        "                     background = edge_r.gene,\n",
        "                     gene_sets=['Azimuth_Cell_Types_2021'],\n",
        "                     organism='human',\n",
        "                     outdir=None)\n",
        "enr_res = enr.results\n",
        "enr_res = enr_res[enr_res['Adjusted P-value'] < 0.05]\n",
        "dotplot(enr_res,\n",
        "              column=\"Adjusted P-value\",\n",
        "              x='Gene_set',\n",
        "              size=2,\n",
        "              top_term=10,\n",
        "              figsize=(3,5),\n",
        "              title = \"GO analysis\",\n",
        "              xticklabels_rot=10,\n",
        "              show_ring=True,\n",
        "              marker='o',\n",
        "             )"
      ]
    },
    {
      "cell_type": "code",
      "execution_count": null,
      "metadata": {
        "id": "V47x3Q-0IGUR"
      },
      "outputs": [],
      "source": [
        "cluster_id = 5\n",
        "enr = gseapy.enrichr(gene_list = list(labels[labels['cluster'] == cluster_id].index),\n",
        "                     background = edge_r.gene,\n",
        "                     gene_sets=['Disease_Perturbations_from_GEO_down',\n",
        "                                'Disease_Perturbations_from_GEO_up',\n",
        "                                'Disease_Signatures_from_GEO_down_2014',\n",
        "                                'Disease_Signatures_from_GEO_up_2014'],\n",
        "                     organism='human',\n",
        "                     outdir=None)\n",
        "enr_res = enr.results\n",
        "enr_res = enr_res[enr_res['Adjusted P-value'] < 0.05]\n",
        "dotplot(enr_res,\n",
        "              column=\"Adjusted P-value\",\n",
        "              x='Gene_set',\n",
        "              size=2,\n",
        "              top_term=10,\n",
        "              figsize=(12,15),\n",
        "              title = \"GO analysis\",\n",
        "              xticklabels_rot=10,\n",
        "              show_ring=True,\n",
        "              marker='o',\n",
        "             )"
      ]
    },
    {
      "cell_type": "code",
      "execution_count": null,
      "metadata": {
        "id": "yqag_0xoNFp2"
      },
      "outputs": [],
      "source": [
        "cluster_id = 5\n",
        "enr = gseapy.enrichr(gene_list = list(labels[labels['cluster'] == cluster_id].index),\n",
        "                     background = edge_r.gene,\n",
        "                     gene_sets=['DisGeNET'],\n",
        "                     organism='human',\n",
        "                     outdir=None)\n",
        "enr_res = enr.results\n",
        "enr_res = enr_res[enr_res['Adjusted P-value'] < 0.05]\n",
        "dotplot(enr_res,\n",
        "              column=\"Adjusted P-value\",\n",
        "              x='Gene_set',\n",
        "              size=2,\n",
        "              top_term=10,\n",
        "              figsize=(12,15),\n",
        "              title = \"GO analysis\",\n",
        "              xticklabels_rot=10,\n",
        "              show_ring=True,\n",
        "              marker='o',\n",
        "             )"
      ]
    },
    {
      "cell_type": "markdown",
      "metadata": {
        "id": "1A_3BFVvXUTr"
      },
      "source": [
        "##Cluster 6"
      ]
    },
    {
      "cell_type": "code",
      "execution_count": null,
      "metadata": {
        "id": "rHC8pPd0XV2g"
      },
      "outputs": [],
      "source": [
        "cluster_id = 6\n",
        "enr = gseapy.enrichr(gene_list = list(labels[labels['cluster'] == cluster_id].index),\n",
        "                     background = edge_r.gene,\n",
        "                     gene_sets=['GO_Biological_Process_2023',\n",
        "                                'GO_Cellular_Component_2023',\n",
        "                                'GO_Molecular_Function_2023'],\n",
        "                     organism='human',\n",
        "                     outdir=None)\n",
        "enr_res = enr.results\n",
        "enr_res = enr_res[enr_res['Adjusted P-value'] < 0.05]\n",
        "dotplot(enr_res,\n",
        "              column=\"Adjusted P-value\",\n",
        "              x='Gene_set',\n",
        "              size=2,\n",
        "              top_term=10,\n",
        "              figsize=(12,15),\n",
        "              title = \"GO analysis\",\n",
        "              xticklabels_rot=10,\n",
        "              show_ring=True,\n",
        "              marker='o',\n",
        "             )"
      ]
    },
    {
      "cell_type": "code",
      "execution_count": null,
      "metadata": {
        "id": "fGu-H4TQXV-5"
      },
      "outputs": [],
      "source": [
        "cluster_id = 6\n",
        "enr = gseapy.enrichr(gene_list = list(labels[labels['cluster'] == cluster_id].index),\n",
        "                     background = edge_r.gene,\n",
        "                     gene_sets=['SynGO_2022'],\n",
        "                     organism='human',\n",
        "                     outdir=None)\n",
        "enr_res = enr.results\n",
        "enr_res = enr_res[enr_res['Adjusted P-value'] < 0.05]\n",
        "dotplot(enr_res,\n",
        "              column=\"Adjusted P-value\",\n",
        "              x='Gene_set',\n",
        "              size=2,\n",
        "              top_term=15,\n",
        "              figsize=(10,15),\n",
        "              title = \"GO analysis\",\n",
        "              xticklabels_rot=10,\n",
        "              show_ring=True,\n",
        "              marker='o',\n",
        "             )"
      ]
    },
    {
      "cell_type": "code",
      "execution_count": null,
      "metadata": {
        "id": "Y0Uyw4uHXWEi"
      },
      "outputs": [],
      "source": [
        "cluster_id = 6\n",
        "enr = gseapy.enrichr(gene_list = list(labels[labels['cluster'] == cluster_id].index),\n",
        "                     background = edge_r.gene,\n",
        "                     gene_sets=['Azimuth_Cell_Types_2021'],\n",
        "                     organism='human',\n",
        "                     outdir=None)\n",
        "enr_res = enr.results\n",
        "enr_res = enr_res[enr_res['Adjusted P-value'] < 0.05]\n",
        "dotplot(enr_res,\n",
        "              column=\"Adjusted P-value\",\n",
        "              x='Gene_set',\n",
        "              size=2,\n",
        "              top_term=10,\n",
        "              figsize=(3,5),\n",
        "              title = \"GO analysis\",\n",
        "              xticklabels_rot=10,\n",
        "              show_ring=True,\n",
        "              marker='o',\n",
        "             )"
      ]
    },
    {
      "cell_type": "code",
      "execution_count": null,
      "metadata": {
        "id": "uqZzauKzIOJG"
      },
      "outputs": [],
      "source": [
        "cluster_id = 6\n",
        "enr = gseapy.enrichr(gene_list = list(labels[labels['cluster'] == cluster_id].index),\n",
        "                     background = edge_r.gene,\n",
        "                     gene_sets=['Disease_Perturbations_from_GEO_down',\n",
        "                                'Disease_Perturbations_from_GEO_up',\n",
        "                                'Disease_Signatures_from_GEO_down_2014',\n",
        "                                'Disease_Signatures_from_GEO_up_2014'],\n",
        "                     organism='human',\n",
        "                     outdir=None)\n",
        "enr_res = enr.results\n",
        "enr_res = enr_res[enr_res['Adjusted P-value'] < 0.05]\n",
        "dotplot(enr_res,\n",
        "              column=\"Adjusted P-value\",\n",
        "              x='Gene_set',\n",
        "              size=2,\n",
        "              top_term=10,\n",
        "              figsize=(12,15),\n",
        "              title = \"GO analysis\",\n",
        "              xticklabels_rot=10,\n",
        "              show_ring=True,\n",
        "              marker='o',\n",
        "             )"
      ]
    },
    {
      "cell_type": "code",
      "execution_count": null,
      "metadata": {
        "id": "EefZCAQoM70v"
      },
      "outputs": [],
      "source": [
        "cluster_id = 6\n",
        "enr = gseapy.enrichr(gene_list = list(labels[labels['cluster'] == cluster_id].index),\n",
        "                     background = edge_r.gene,\n",
        "                     gene_sets=['DisGeNET'],\n",
        "                     organism='human',\n",
        "                     outdir=None)\n",
        "enr_res = enr.results\n",
        "enr_res = enr_res[enr_res['Adjusted P-value'] < 0.05]\n",
        "dotplot(enr_res,\n",
        "              column=\"Adjusted P-value\",\n",
        "              x='Gene_set',\n",
        "              size=2,\n",
        "              top_term=10,\n",
        "              figsize=(12,15),\n",
        "              title = \"GO analysis\",\n",
        "              xticklabels_rot=10,\n",
        "              show_ring=True,\n",
        "              marker='o',\n",
        "             )"
      ]
    },
    {
      "cell_type": "code",
      "execution_count": null,
      "metadata": {
        "id": "nMK9sMV_VtSa"
      },
      "outputs": [],
      "source": [
        "df"
      ]
    },
    {
      "cell_type": "markdown",
      "metadata": {
        "id": "6-D0D0_fXiNG"
      },
      "source": [
        "##Cluster 7"
      ]
    },
    {
      "cell_type": "code",
      "execution_count": null,
      "metadata": {
        "id": "5q3YCIIBXj6e"
      },
      "outputs": [],
      "source": [
        "cluster_id = 7\n",
        "enr = gseapy.enrichr(gene_list = list(labels[labels['cluster'] == cluster_id].index),\n",
        "                     background = df.index,\n",
        "                     gene_sets=['GO_Biological_Process_2023',\n",
        "                                'GO_Cellular_Component_2023',\n",
        "                                'GO_Molecular_Function_2023'],\n",
        "                     organism='human',\n",
        "                     outdir=None)\n",
        "enr_res = enr.results\n",
        "enr_res = enr_res[enr_res['Adjusted P-value'] < 0.05]\n",
        "dotplot(enr_res,\n",
        "              column=\"Adjusted P-value\",\n",
        "              x='Gene_set',\n",
        "              size=2,\n",
        "              top_term=10,\n",
        "              figsize=(12,15),\n",
        "              title = \"GO analysis\",\n",
        "              xticklabels_rot=10,\n",
        "              show_ring=True,\n",
        "              marker='o',\n",
        "             )"
      ]
    },
    {
      "cell_type": "code",
      "execution_count": null,
      "metadata": {
        "id": "wQbwdGv63VoE"
      },
      "outputs": [],
      "source": [
        "edge_r.gene"
      ]
    },
    {
      "cell_type": "code",
      "execution_count": null,
      "metadata": {
        "id": "LBDDRywwXkDP"
      },
      "outputs": [],
      "source": [
        "cluster_id = 7\n",
        "enr = gseapy.enrichr(gene_list = list(labels[labels['cluster'] == cluster_id].index),\n",
        "                     background = edge_r.gene,\n",
        "                     gene_sets=['SynGO_2022'],\n",
        "                     organism='human',\n",
        "                     outdir=None)\n",
        "enr_res = enr.results\n",
        "enr_res = enr_res[enr_res['Adjusted P-value'] < 0.05]\n",
        "dotplot(enr_res,\n",
        "              column=\"Adjusted P-value\",\n",
        "              x='Gene_set',\n",
        "              size=2,\n",
        "              top_term=10,\n",
        "              figsize=(3,5),\n",
        "              title = \"GO analysis\",\n",
        "              xticklabels_rot=10,\n",
        "              show_ring=True,\n",
        "              marker='o',\n",
        "             )"
      ]
    },
    {
      "cell_type": "code",
      "execution_count": null,
      "metadata": {
        "id": "mMgnPOuuXkJr"
      },
      "outputs": [],
      "source": [
        "cluster_id = 7\n",
        "enr = gseapy.enrichr(gene_list = list(labels[labels['cluster'] == cluster_id].index),\n",
        "                     background = edge_r.gene,\n",
        "                     gene_sets=['Azimuth_Cell_Types_2021'],\n",
        "                     organism='human',\n",
        "                     outdir=None)\n",
        "enr_res = enr.results\n",
        "enr_res = enr_res[enr_res['Adjusted P-value'] < 0.05]\n",
        "dotplot(enr_res,\n",
        "              column=\"Adjusted P-value\",\n",
        "              x='Gene_set',\n",
        "              size=2,\n",
        "              top_term=10,\n",
        "              figsize=(3,5),\n",
        "              title = \"GO analysis\",\n",
        "              xticklabels_rot=10,\n",
        "              show_ring=True,\n",
        "              marker='o',\n",
        "             )"
      ]
    },
    {
      "cell_type": "code",
      "execution_count": null,
      "metadata": {
        "id": "dRwwmefmI_Ub"
      },
      "outputs": [],
      "source": [
        "cluster_id = 7\n",
        "enr = gseapy.enrichr(gene_list = list(labels[labels['cluster'] == cluster_id].index),\n",
        "                     background = edge_r.gene,\n",
        "                     gene_sets=['Disease_Perturbations_from_GEO_down',\n",
        "                                'Disease_Perturbations_from_GEO_up',\n",
        "                                'Disease_Signatures_from_GEO_down_2014',\n",
        "                                'Disease_Signatures_from_GEO_up_2014'],\n",
        "                     organism='human',\n",
        "                     outdir=None)\n",
        "enr_res = enr.results\n",
        "enr_res = enr_res[enr_res['Adjusted P-value'] < 0.05]\n",
        "dotplot(enr_res,\n",
        "              column=\"Adjusted P-value\",\n",
        "              x='Gene_set',\n",
        "              size=2,\n",
        "              top_term=10,\n",
        "              figsize=(12,15),\n",
        "              title = \"GO analysis\",\n",
        "              xticklabels_rot=10,\n",
        "              show_ring=True,\n",
        "              marker='o',\n",
        "             )"
      ]
    },
    {
      "cell_type": "code",
      "execution_count": null,
      "metadata": {
        "id": "tiPEtp5dMvam"
      },
      "outputs": [],
      "source": [
        "cluster_id = 7\n",
        "enr = gseapy.enrichr(gene_list = list(labels[labels['cluster'] == cluster_id].index),\n",
        "                     background = edge_r.gene,\n",
        "                     gene_sets=['Rare_Diseases_AutoRIF_ARCHS4_Predictions',\n",
        "                                'Rare_Diseases_GeneRIF_ARCHS4_Predictions'],\n",
        "                     organism='human',\n",
        "                     outdir=None)\n",
        "enr_res = enr.results\n",
        "enr_res = enr_res[enr_res['Adjusted P-value'] < 0.05]\n",
        "dotplot(enr_res,\n",
        "              column=\"Adjusted P-value\",\n",
        "              x='Gene_set',\n",
        "              size=2,\n",
        "              top_term=10,\n",
        "              figsize=(12,15),\n",
        "              title = \"GO analysis\",\n",
        "              xticklabels_rot=10,\n",
        "              show_ring=True,\n",
        "              marker='o',\n",
        "             )"
      ]
    },
    {
      "cell_type": "code",
      "execution_count": null,
      "metadata": {
        "id": "8sVwMxA5Ogow"
      },
      "outputs": [],
      "source": [
        "enr_res"
      ]
    },
    {
      "cell_type": "code",
      "execution_count": null,
      "metadata": {
        "id": "bnXKb-O0Q8wQ"
      },
      "outputs": [],
      "source": [
        "GNAZ;CADM1;FAXC;MAST1;LSAMP;CELF5;CRMP1;STMN4;DISP2;FAM171A2;TUBB2B;CAMKV;TUBB3;LHX2;DDAH2;GNG4;DPYSL3;MAP6;XKR4;CNIH2;SCN3A\n"
      ]
    },
    {
      "cell_type": "code",
      "execution_count": null,
      "metadata": {
        "id": "kyfGmGkLO_Ty"
      },
      "outputs": [],
      "source": [
        "cluster_id = 7\n",
        "enr = gseapy.enrichr(gene_list = list(labels[labels['cluster'] == cluster_id].index),\n",
        "                     background = edge_r.gene,\n",
        "                     gene_sets=['RNA-Seq_Disease_Gene_and_Drug_Signatures_from_GEO',\n",
        "                                'RNAseq_Automatic_GEO_Signatures_Human_Down',\n",
        "                                'RNAseq_Automatic_GEO_Signatures_Human_Up'],\n",
        "                     organism='human',\n",
        "                     outdir=None)\n",
        "enr_res = enr.results\n",
        "enr_res = enr_res[enr_res['Adjusted P-value'] < 0.05]\n",
        "dotplot(enr_res,\n",
        "              column=\"Adjusted P-value\",\n",
        "              x='Gene_set',\n",
        "              size=2,\n",
        "              top_term=10,\n",
        "              figsize=(12,15),\n",
        "              title = \"GO analysis\",\n",
        "              xticklabels_rot=10,\n",
        "              show_ring=True,\n",
        "              marker='o',\n",
        "             )"
      ]
    },
    {
      "cell_type": "code",
      "execution_count": null,
      "metadata": {
        "id": "mSID0NarJVD6"
      },
      "outputs": [],
      "source": [
        "cluster_id = 7\n",
        "enr = gseapy.enrichr(gene_list = list(labels[labels['cluster'] == cluster_id].index),\n",
        "                     background = edge_r.gene,\n",
        "                     gene_sets=['RNA-Aging_Perturbations_from_GEO_down',\n",
        "                                'Aging_Perturbations_from_GEO_up'],\n",
        "                     organism='human',\n",
        "                     outdir=None)\n",
        "enr_res = enr.results\n",
        "enr_res = enr_res[enr_res['Adjusted P-value'] < 0.05]\n",
        "dotplot(enr_res,\n",
        "              column=\"Adjusted P-value\",\n",
        "              x='Gene_set',\n",
        "              size=2,\n",
        "              top_term=10,\n",
        "              figsize=(12,15),\n",
        "              title = \"GO analysis\",\n",
        "              xticklabels_rot=10,\n",
        "              show_ring=True,\n",
        "              marker='o',\n",
        "             )"
      ]
    },
    {
      "cell_type": "code",
      "execution_count": null,
      "metadata": {
        "id": "SfIKwOxOQbMN"
      },
      "outputs": [],
      "source": [
        "cluster_id = 7\n",
        "enr = gseapy.enrichr(gene_list = list(labels[labels['cluster'] == cluster_id].index),\n",
        "                     background = edge_r.gene,\n",
        "                     gene_sets=['Allen_Brain_Atlas_10x_scRNA_2021',\n",
        "                                'Allen_Brain_Atlas_down',\n",
        "                                'Allen_Brain_Atlas_up'],\n",
        "                     organism='human',\n",
        "                     outdir=None)\n",
        "enr_res = enr.results\n",
        "enr_res = enr_res[enr_res['Adjusted P-value'] < 0.05]\n",
        "dotplot(enr_res,\n",
        "              column=\"Adjusted P-value\",\n",
        "              x='Gene_set',\n",
        "              size=2,\n",
        "              top_term=10,\n",
        "              figsize=(12,15),\n",
        "              title = \"GO analysis\",\n",
        "              xticklabels_rot=10,\n",
        "              show_ring=True,\n",
        "              marker='o',\n",
        "             )"
      ]
    },
    {
      "cell_type": "code",
      "execution_count": null,
      "metadata": {
        "id": "ucQjAxr2Pjr0"
      },
      "outputs": [],
      "source": [
        "de_fc_7_citp = de_fc_7.loc[['GNAZ', 'CADM1', 'FAXC', 'MAST1', 'LSAMP', 'CELF5', 'CRMP1', 'STMN4', 'DISP2', 'FAM171A2', 'TUBB2B', 'CAMKV', 'TUBB3', 'LHX2', 'DDAH2', 'GNG4', 'DPYSL3', 'MAP6', 'XKR4', 'CNIH2'], :]\n",
        "de_fc_7_citp"
      ]
    },
    {
      "cell_type": "code",
      "execution_count": null,
      "metadata": {
        "id": "LFk22GTwUJQF"
      },
      "outputs": [],
      "source": [
        "de_fc_7_ntum = de_fc_7.loc[['TUB', 'HDAC5', 'SDC3', 'CACNA1B', 'PPP2R5B', 'CRMP1', 'STMN4', 'VASH1', 'DUSP8', 'KLF7', 'TUBB2B', 'MAP1LC3A', 'TUBB3', 'MCRIP1', 'DNAJB5', 'GPRIN1', 'DPYSL3', 'NCS1', 'SFXN3', 'TIMP2', 'CTSF'], :]\n",
        "de_fc_7_ntum"
      ]
    },
    {
      "cell_type": "code",
      "execution_count": null,
      "metadata": {
        "id": "VY1_2h2TWA7H"
      },
      "outputs": [],
      "source": [
        "de_fc_7_xpvh = de_fc_7.loc[['PODXL2', 'THRA', 'CTNND2', 'MLLT1', 'AGAP3', 'ADCY1', 'CHD3', 'PDZD4', 'FAM171A2', 'DPYSL3', 'NCS1', 'PLXNA1', 'SBF1', 'TNPO2', 'SPTBN1', 'ZBTB18', 'PPP2R5B', 'CSNK1E', 'AP2B1', 'DUSP8', 'PRRC2B', 'SREBF2', 'ARHGAP33', 'ADGRB2', 'GPRIN1', 'FAM131B'], :]\n",
        "de_fc_7_xpvh"
      ]
    },
    {
      "cell_type": "code",
      "execution_count": null,
      "metadata": {
        "id": "FHYk1x-0VnrZ"
      },
      "outputs": [],
      "source": [
        "de_fc_7_ntum = de_fc_7.loc[['TUB', 'HDAC5', 'SDC3', 'CACNA1B', 'PPP2R5B', 'CRMP1', 'STMN4', 'VASH1', 'DUSP8', 'KLF7', 'TUBB2B', 'MAP1LC3A', 'TUBB3', 'MCRIP1', 'DNAJB5', 'GPRIN1', 'DPYSL3', 'NCS1', 'SFXN3', 'TIMP2', 'CTSF'], :]\n",
        "de_fc_7_ntum"
      ]
    },
    {
      "cell_type": "code",
      "execution_count": null,
      "metadata": {
        "id": "5hIIgEHmTN2C"
      },
      "outputs": [],
      "source": [
        "de_fc_7_citp = de_fc_7.loc[['GNAZ'], :]\n",
        "de_fc_7_citp"
      ]
    },
    {
      "cell_type": "code",
      "execution_count": null,
      "metadata": {
        "id": "-SxqqOzAS2ar"
      },
      "outputs": [],
      "source": [
        "de_fc_7"
      ]
    },
    {
      "cell_type": "code",
      "execution_count": null,
      "metadata": {
        "id": "vZmrFjf-JitG"
      },
      "outputs": [],
      "source": [
        "cluster_7"
      ]
    },
    {
      "cell_type": "markdown",
      "metadata": {
        "id": "6Gc00NM1y5aH"
      },
      "source": [
        "#FC analysis"
      ]
    },
    {
      "cell_type": "code",
      "execution_count": null,
      "metadata": {
        "id": "yO0PNArMy9UX"
      },
      "outputs": [],
      "source": [
        "df_res_t = df_res.T\n",
        "df_res_t['genes'] = df_res_t.index\n",
        "de_fc = pd.merge(FC, df_res_t, on='genes', how='inner')\n",
        "de_fc = de_fc.drop(de_fc.iloc[:, 8:119], axis = 1)\n",
        "de_fc.index = de_fc['genes']\n",
        "de_fc = de_fc.drop(de_fc.columns[0], axis =1)\n",
        "de_fc = de_fc.sort_values(by = 'FC_L1', ascending = False)\n",
        "de_fc = de_fc.dropna(axis = 0)\n",
        "fig, ax = plt.subplots(figsize= (20, 15))\n",
        "sns.heatmap(de_fc, cmap = \"bwr\", ax=ax, norm=mpl.colors.Normalize(vmin=-6, vmax=6))\n",
        "plt.show()"
      ]
    },
    {
      "cell_type": "code",
      "execution_count": null,
      "metadata": {
        "id": "D6d0wDgK04YD"
      },
      "outputs": [],
      "source": [
        "cluster_2 = labels.loc[labels.cluster == 2]\n",
        "cluster_1 = labels.loc[labels.cluster == 1]\n",
        "cluster_0 = labels.loc[labels.cluster == 0]\n",
        "cluster_3 = labels.loc[labels.cluster == 3]\n",
        "cluster_4 = labels.loc[labels.cluster == 4]\n",
        "cluster_5 = labels.loc[labels.cluster == 5]\n",
        "cluster_6 = labels.loc[labels.cluster == 6]\n",
        "cluster_7 = labels.loc[labels.cluster == 7]\n",
        "de_fc_0 = de_fc.loc[de_fc.index.isin(cluster_0.index)]\n",
        "de_fc_1 = de_fc.loc[de_fc.index.isin(cluster_1.index)]\n",
        "de_fc_2 = de_fc.loc[de_fc.index.isin(cluster_2.index)]\n",
        "de_fc_3 = de_fc.loc[de_fc.index.isin(cluster_3.index)]\n",
        "de_fc_4 = de_fc.loc[de_fc.index.isin(cluster_4.index)]\n",
        "de_fc_5 = de_fc.loc[de_fc.index.isin(cluster_5.index)]\n",
        "de_fc_6 = de_fc.loc[de_fc.index.isin(cluster_6.index)]\n",
        "de_fc_7 = de_fc.loc[de_fc.index.isin(cluster_7.index)]\n",
        "de_fc_7"
      ]
    },
    {
      "cell_type": "code",
      "execution_count": null,
      "metadata": {
        "id": "IWd49iDF0-DW"
      },
      "outputs": [],
      "source": [
        "de_fc_2 = de_fc_2.sort_values(by = 'FC_L1', ascending = False)\n",
        "de_fc_2.head(100)"
      ]
    },
    {
      "cell_type": "code",
      "execution_count": null,
      "metadata": {
        "id": "sIo-awuG55Ul"
      },
      "outputs": [],
      "source": [
        "SF3B4 = de_fc_2.loc[de_fc_2.index == 'SF3B4']\n",
        "SF3B5 = de_fc_2.loc[de_fc_2.index == 'SF3B5']\n",
        "SNRPD1 = de_fc_2.loc[de_fc_2.index == 'SNRPD1']\n",
        "SNRNP70 = de_fc_2.loc[de_fc_2.index == 'SNRNP70']\n",
        "MAGOH = de_fc_2.loc[de_fc_2.index == 'MAGOH']\n",
        "DHX15 = de_fc_2.loc[de_fc_2.index == 'DHX15']\n",
        "LSM5 = de_fc_2.loc[de_fc_2.index == 'LSM5']\n",
        "LSM5"
      ]
    },
    {
      "cell_type": "code",
      "execution_count": null,
      "metadata": {
        "id": "b3eeheLe5V2B"
      },
      "outputs": [],
      "source": [
        "enr_res"
      ]
    },
    {
      "cell_type": "code",
      "execution_count": null,
      "metadata": {
        "id": "hccwol6Z0Q37"
      },
      "outputs": [],
      "source": [
        "de_fc_7 = de_fc_7.sort_values(by = 'FC_L1', ascending = False)\n",
        "de_fc_7.head(100)"
      ]
    },
    {
      "cell_type": "code",
      "execution_count": null,
      "metadata": {
        "id": "YqgubYdD00II"
      },
      "outputs": [],
      "source": [
        "fc_7 = edge_r.loc[edge_r.gene.isin(de_fc_7.index)]\n",
        "fc_7 = fc_7.sort_values(by ='logFC.ns.layer..df...3.1.spatial_libd_human', ascending = False)\n",
        "fc_7.head(50)"
      ]
    },
    {
      "cell_type": "code",
      "execution_count": null,
      "metadata": {
        "id": "s0KK9C_9bftd"
      },
      "outputs": [],
      "source": [
        "MYT1L = de_fc_7.loc[de_fc_7.index == 'MYT1L']\n",
        "RBFOX1 = de_fc_7.loc[de_fc_7.index == 'RBFOX1']\n",
        "GDA = de_fc_7.loc[de_fc_7.index == 'GDA']\n",
        "GDA"
      ]
    },
    {
      "cell_type": "code",
      "execution_count": null,
      "metadata": {
        "id": "wqiQyyCa39ZZ"
      },
      "outputs": [],
      "source": [
        "fc_2 = edge_r.loc[edge_r.gene.isin(de_fc_2.index)]\n",
        "fc_2 = fc_2.sort_values(by ='logFC.ns.layer..df...3.1.spatial_libd_human', ascending = False)\n",
        "fc_7.head(50)"
      ]
    },
    {
      "cell_type": "markdown",
      "metadata": {
        "id": "yNJeUgFy2jX8"
      },
      "source": [
        "##Cluster 0"
      ]
    },
    {
      "cell_type": "code",
      "execution_count": null,
      "metadata": {
        "id": "iBy4wrcd2d2f"
      },
      "outputs": [],
      "source": [
        "fig, ax = plt.subplots(figsize= (20, 15))\n",
        "sns.heatmap(de_fc_0, cmap = \"bwr\", ax=ax, norm=mpl.colors.Normalize(vmin=-6, vmax=6))\n",
        "plt.show()"
      ]
    },
    {
      "cell_type": "code",
      "source": [
        "de_fc_0.head(20)"
      ],
      "metadata": {
        "id": "vbvJc5oj03GE"
      },
      "execution_count": null,
      "outputs": []
    },
    {
      "cell_type": "markdown",
      "metadata": {
        "id": "oJosyFvR3TxM"
      },
      "source": [
        "##Cluster 1"
      ]
    },
    {
      "cell_type": "code",
      "execution_count": null,
      "metadata": {
        "id": "nXTbQOFL3WXr"
      },
      "outputs": [],
      "source": [
        "fig, ax = plt.subplots(figsize= (20, 15))\n",
        "sns.heatmap(de_fc_1, cmap = \"bwr\", ax=ax, norm=mpl.colors.Normalize(vmin=-6, vmax=6))\n",
        "plt.show()"
      ]
    },
    {
      "cell_type": "markdown",
      "metadata": {
        "id": "dQ_yVcv03n_b"
      },
      "source": [
        "##Cluster 2"
      ]
    },
    {
      "cell_type": "code",
      "execution_count": null,
      "metadata": {
        "id": "AiF2oLyI3qtG"
      },
      "outputs": [],
      "source": [
        "fig, ax = plt.subplots(figsize= (20, 15))\n",
        "sns.heatmap(de_fc_2, cmap = \"bwr\", ax=ax, norm=mpl.colors.Normalize(vmin=-6, vmax=6))\n",
        "plt.show()"
      ]
    },
    {
      "cell_type": "markdown",
      "metadata": {
        "id": "NzYVx6nu35bW"
      },
      "source": [
        "##Cluster 3"
      ]
    },
    {
      "cell_type": "code",
      "execution_count": null,
      "metadata": {
        "id": "WaSRRGY0364I"
      },
      "outputs": [],
      "source": [
        "fig, ax = plt.subplots(figsize= (20, 15))\n",
        "sns.heatmap(de_fc_3, cmap = \"bwr\", ax=ax, norm=mpl.colors.Normalize(vmin=-6, vmax=6))\n",
        "plt.show()"
      ]
    },
    {
      "cell_type": "markdown",
      "metadata": {
        "id": "dFP1bz-N4IdS"
      },
      "source": [
        "##Cluster 4"
      ]
    },
    {
      "cell_type": "code",
      "execution_count": null,
      "metadata": {
        "id": "XFF-Lte24KF5"
      },
      "outputs": [],
      "source": [
        "fig, ax = plt.subplots(figsize= (20, 15))\n",
        "sns.heatmap(de_fc_4, cmap = \"bwr\", ax=ax, norm=mpl.colors.Normalize(vmin=-6, vmax=6))\n",
        "plt.show()"
      ]
    },
    {
      "cell_type": "code",
      "source": [
        "de_fc_4.head(20)"
      ],
      "metadata": {
        "id": "REmqTnP7nH1D"
      },
      "execution_count": null,
      "outputs": []
    },
    {
      "cell_type": "markdown",
      "metadata": {
        "id": "k-kdCoIO4WuV"
      },
      "source": [
        "##Cluster 5"
      ]
    },
    {
      "cell_type": "code",
      "execution_count": null,
      "metadata": {
        "id": "NIWMKzFm4YIK"
      },
      "outputs": [],
      "source": [
        "fig, ax = plt.subplots(figsize= (20, 15))\n",
        "sns.heatmap(de_fc_5, cmap = \"bwr\", ax=ax, norm=mpl.colors.Normalize(vmin=-6, vmax=6))\n",
        "plt.show()"
      ]
    },
    {
      "cell_type": "markdown",
      "metadata": {
        "id": "_BhiZoxu4j1X"
      },
      "source": [
        "##Cluster 6"
      ]
    },
    {
      "cell_type": "code",
      "execution_count": null,
      "metadata": {
        "id": "gmtMbGUu4lif"
      },
      "outputs": [],
      "source": [
        "fig, ax = plt.subplots(figsize= (20, 15))\n",
        "sns.heatmap(de_fc_6, cmap = \"bwr\", ax=ax, norm=mpl.colors.Normalize(vmin=-6, vmax=6))\n",
        "plt.show()"
      ]
    },
    {
      "cell_type": "code",
      "source": [
        "de_fc_6.sort_values(by = 'FC_L2')"
      ],
      "metadata": {
        "id": "ToCj_QwdaOik"
      },
      "execution_count": null,
      "outputs": []
    },
    {
      "cell_type": "code",
      "source": [
        "de_fc_6.head(20)"
      ],
      "metadata": {
        "id": "XPMjQQF3nWK4"
      },
      "execution_count": null,
      "outputs": []
    },
    {
      "cell_type": "markdown",
      "metadata": {
        "id": "m00T1ag24xVS"
      },
      "source": [
        "##Cluster 7"
      ]
    },
    {
      "cell_type": "code",
      "execution_count": null,
      "metadata": {
        "id": "Fu3DKNLv40Q3"
      },
      "outputs": [],
      "source": [
        "fig, ax = plt.subplots(figsize= (20, 15))\n",
        "sns.heatmap(de_fc_7, cmap = \"bwr\", ax=ax, norm=mpl.colors.Normalize(vmin=-6, vmax=6))\n",
        "plt.show()"
      ]
    },
    {
      "cell_type": "code",
      "execution_count": null,
      "metadata": {
        "id": "je-VYNN40DS2"
      },
      "outputs": [],
      "source": [
        "de_fc_7_down = de_fc_7.loc[(de_fc_7.FC_L2 < 0)]\n",
        "de_fc_7_down"
      ]
    },
    {
      "cell_type": "code",
      "execution_count": null,
      "metadata": {
        "id": "TXfhTuto1Dgb"
      },
      "outputs": [],
      "source": [
        "de_fc_7_up.index"
      ]
    },
    {
      "cell_type": "code",
      "execution_count": null,
      "metadata": {
        "id": "u1GcWpby0c6E"
      },
      "outputs": [],
      "source": [
        "cluster_id = 0\n",
        "enr = gseapy.enrichr(gene_list = list(de_fc_7_up.index),\n",
        "                     background = edge_r.gene,\n",
        "                     gene_sets=['GO_Biological_Process_2021',\n",
        "                                'GO_Cellular_Component_2021',\n",
        "                                'GO_Molecular_Function_2021'],\n",
        "                     organism='human',\n",
        "                     outdir=None)\n",
        "enr_res = enr.results\n",
        "enr_res = enr_res[enr_res['Adjusted P-value'] < 0.05]\n",
        "dotplot(enr_res,\n",
        "              column=\"Adjusted P-value\",\n",
        "              x='Gene_set',\n",
        "              size=2,\n",
        "              top_term=15,\n",
        "              figsize=(12,15),\n",
        "              title = \"GO analysis\",\n",
        "              xticklabels_rot=10,\n",
        "              show_ring=True,\n",
        "              marker='o',\n",
        "             )"
      ]
    },
    {
      "cell_type": "markdown",
      "metadata": {
        "id": "2LbgBtPZ5m-W"
      },
      "source": [
        "#Additional analysis based on FC"
      ]
    },
    {
      "cell_type": "markdown",
      "metadata": {
        "id": "M0aOnw9n5qVJ"
      },
      "source": [
        "##Cluster 0"
      ]
    },
    {
      "cell_type": "code",
      "execution_count": null,
      "metadata": {
        "id": "5mOIDTSa5s3P"
      },
      "outputs": [],
      "source": [
        "de_fc_0_sub = de_fc_0.loc[de_fc_0.FC_L1 > 0]\n",
        "de_fc_0_sub = de_fc_0_sub.loc[de_fc_0_sub.FC_L4 < 0]\n",
        "de_fc_0_sub"
      ]
    },
    {
      "cell_type": "code",
      "execution_count": null,
      "metadata": {
        "id": "Zjj8I-UQ7Yw8"
      },
      "outputs": [],
      "source": [
        "de_fc_7_sub = de_fc_7.loc[de_fc_7.FC_L1 < 0]\n",
        "de_fc_7_sub = de_fc_7_sub.loc[de_fc_7_sub.FC_L5 > 0]\n",
        "de_fc_7_sub"
      ]
    },
    {
      "cell_type": "code",
      "execution_count": null,
      "metadata": {
        "id": "gyTwsOrK-CXu"
      },
      "outputs": [],
      "source": [
        "df_res_PEG3"
      ]
    },
    {
      "cell_type": "code",
      "execution_count": null,
      "metadata": {
        "id": "sDtQIjdg8x_p"
      },
      "outputs": [],
      "source": [
        "df_res_PEG3 = df_res_t.loc[df_res_t.index == 'PEG3']\n",
        "df_res_PEG3 = df_res_PEG3.T\n",
        "df_annotation = df_res_PEG3.copy()\n",
        "df_annotation['layer'] = pb_age_norm.obs.layer\n",
        "df_annotation['condition'] = pb_age_norm.obs.condition\n",
        "layer_mean = df_annotation.groupby(['condition', 'layer']).mean()\n",
        "layer_mean = layer_mean.reset_index()\n",
        "sns.lineplot(data = layer_mean, x = 'layer', y = 'PEG3', hue = 'condition')"
      ]
    },
    {
      "cell_type": "code",
      "execution_count": null,
      "metadata": {
        "id": "wfc4bqAW_PPk"
      },
      "outputs": [],
      "source": [
        "df_t = df.T\n",
        "df_t['condition'] = pb_age_norm.obs.condition\n",
        "df_t['layer'] = pb_age_norm.obs.layer"
      ]
    },
    {
      "cell_type": "code",
      "execution_count": null,
      "metadata": {
        "id": "nvOENqAb-wpz"
      },
      "outputs": [],
      "source": [
        "a4_dims = (11.7, 8.27)\n",
        "fig, ax = plt.subplots(figsize=a4_dims)\n",
        "sns.boxplot(ax = ax, data = df_t, y = 'SOBP', x = 'layer', hue = 'condition')"
      ]
    },
    {
      "cell_type": "markdown",
      "metadata": {
        "id": "dC-5h7coUT9i"
      },
      "source": [
        "#GSEA"
      ]
    },
    {
      "cell_type": "code",
      "execution_count": null,
      "metadata": {
        "id": "I6w-Z9XDUWHF"
      },
      "outputs": [],
      "source": [
        "edge_r = pd.read_csv(dir_path_er + 'edgeR_age_sampleid.csv')\n",
        "edge_r"
      ]
    },
    {
      "cell_type": "code",
      "execution_count": null,
      "metadata": {
        "id": "rVgg46foUoHB"
      },
      "outputs": [],
      "source": [
        "edge_r.columns = edge_r.columns.str.replace('Unnamed: 0','gene')\n",
        "mult_test = multipletests(edge_r['PValue'], method='fdr_bh')\n",
        "edge_r['p_val_adj'] = mult_test[1]\n",
        "edge_r"
      ]
    },
    {
      "cell_type": "code",
      "source": [
        "sns.set_theme(style = 'white')\n",
        "sns.histplot(data=edge_r, x = 'p_val_adj', color = 'g')"
      ],
      "metadata": {
        "id": "3DWQ4yqYpbyE"
      },
      "execution_count": null,
      "outputs": []
    },
    {
      "cell_type": "code",
      "execution_count": null,
      "metadata": {
        "id": "yeKqHfkJVStn"
      },
      "outputs": [],
      "source": [
        " pip install gseapy"
      ]
    },
    {
      "cell_type": "code",
      "execution_count": null,
      "metadata": {
        "id": "9aqSV0nyVWWy"
      },
      "outputs": [],
      "source": [
        "from gseapy import barplot, dotplot\n",
        "import gseapy as gp\n"
      ]
    },
    {
      "cell_type": "code",
      "execution_count": null,
      "metadata": {
        "id": "acLoniqHVoy0"
      },
      "outputs": [],
      "source": [
        "edgeR = edgeR.sort_values(by = 'p_val_adj')\n",
        "edgeR"
      ]
    },
    {
      "cell_type": "code",
      "execution_count": null,
      "metadata": {
        "id": "tcq6BV2RWJVf"
      },
      "outputs": [],
      "source": [
        "edgeR = edgeR.drop(edgeR.columns[1:7], axis =1)\n",
        "edgeR.index = edgeR.gene\n",
        "edgeR"
      ]
    },
    {
      "cell_type": "code",
      "execution_count": null,
      "metadata": {
        "id": "2TgQqUFxXFWT"
      },
      "outputs": [],
      "source": [
        "edgeR = edgeR.drop(edgeR.columns[0], axis =1)\n",
        "edgeR"
      ]
    },
    {
      "cell_type": "code",
      "execution_count": null,
      "metadata": {
        "id": "bTaD1EwqV9Wk"
      },
      "outputs": [],
      "source": [
        "pre_res = gp.prerank(rnk= edgeR, # or rnk = rnk,\n",
        "                     gene_sets='GO_Biological_Process_2023',\n",
        "                     threads=4,\n",
        "                     min_size=5,\n",
        "                     max_size=1000,\n",
        "                     permutation_num=1000, # reduce number to speed up testing\n",
        "                     outdir=None, # don't write to disk\n",
        "                     seed=6,\n",
        "                     verbose=True, # see what's going on behind the scenes\n",
        "                    )"
      ]
    },
    {
      "cell_type": "code",
      "execution_count": null,
      "metadata": {
        "id": "mqsG1m41YSf1"
      },
      "outputs": [],
      "source": [
        "pre_res.res2d.sort_values(by = 'FDR q-val')\n"
      ]
    },
    {
      "cell_type": "code",
      "execution_count": null,
      "metadata": {
        "id": "nBRbAwajYx3T"
      },
      "outputs": [],
      "source": [
        "ax = dotplot(pre_res.res2d,\n",
        "             column=\"FDR q-val\",\n",
        "             title='GO_Biological_Process_2023',\n",
        "             cmap=plt.cm.viridis,\n",
        "             size=6, # adjust dot size\n",
        "             figsize=(10,15), cutoff=0.25, show_ring=False)"
      ]
    },
    {
      "cell_type": "code",
      "execution_count": null,
      "metadata": {
        "id": "mFqunSpHeW8J"
      },
      "outputs": [],
      "source": [
        "terms = pre_res.res2d.Term\n",
        "axs = pre_res.plot(terms=terms[4])"
      ]
    },
    {
      "cell_type": "code",
      "execution_count": null,
      "metadata": {
        "id": "2Rp4u5I8d7oC"
      },
      "outputs": [],
      "source": [
        "cluster_0"
      ]
    },
    {
      "cell_type": "markdown",
      "metadata": {
        "id": "5XLTedCVdhAm"
      },
      "source": [
        "#Additional clustertization of clusters"
      ]
    },
    {
      "cell_type": "code",
      "execution_count": null,
      "metadata": {
        "id": "IO6u63zcdmoj"
      },
      "outputs": [],
      "source": [
        "df_res_0 = df[df.index.isin(cluster_0.index)]\n",
        "df_res_1 = df[df.index.isin(cluster_1.index)]\n",
        "df_res_2 = df[df.index.isin(cluster_2.index)]\n",
        "df_res_3 = df[df.index.isin(cluster_3.index)]\n",
        "df_res_4 = df[df.index.isin(cluster_4.index)]\n",
        "df_res_5 = df[df.index.isin(cluster_5.index)]\n",
        "df_res_6 = df[df.index.isin(cluster_6.index)]\n",
        "df_res_7 = df[df.index.isin(cluster_7.index)]"
      ]
    },
    {
      "cell_type": "code",
      "execution_count": null,
      "metadata": {
        "id": "5-mcmEhkKCkW"
      },
      "outputs": [],
      "source": [
        "df_res"
      ]
    },
    {
      "cell_type": "code",
      "execution_count": null,
      "metadata": {
        "id": "rw341fDRfGAi"
      },
      "outputs": [],
      "source": [
        "df = df_res.T\n",
        "df = df.apply(pd.to_numeric)\n",
        "df"
      ]
    },
    {
      "cell_type": "code",
      "execution_count": null,
      "metadata": {
        "id": "XXxlTfpIOHkb"
      },
      "outputs": [],
      "source": [
        "df_res_0"
      ]
    },
    {
      "cell_type": "code",
      "execution_count": null,
      "metadata": {
        "id": "Sv9RAsyftRBy"
      },
      "outputs": [],
      "source": [
        "df_res_0 = df_res_0.T\n"
      ]
    },
    {
      "cell_type": "markdown",
      "metadata": {
        "id": "PHAigYNhfJ6t"
      },
      "source": [
        "##0"
      ]
    },
    {
      "cell_type": "code",
      "execution_count": null,
      "metadata": {
        "id": "3R4FdMXMfLWd"
      },
      "outputs": [],
      "source": [
        "sample_order = dict()\n",
        "for cond in ['human', '151']:\n",
        "    samples = df_res_0.loc[df_res_0.index.str.contains(cond)].index\n",
        "    order = samples.sort_values()\n",
        "    order_laminar = order[order.str.contains('L')].tolist()\n",
        "    order_wm = order[order.str.contains('WM')].tolist()\n",
        "    sample_order[cond] = order_wm + order_laminar\n",
        "sample_order['all'] = sample_order['human'] + sample_order['151']\n",
        "df_res_0 = df_res_0.loc[sample_order['all']]\n",
        "sns.set(font_scale=0.7)\n",
        "sns.clustermap(df_res_0, figsize=(15, 10), cmap=\"RdBu_r\", center=0, vmax=0.25, vmin=-0.25, metric='cosine', annot_kws={\"size\": 2}, row_cluster=False)"
      ]
    },
    {
      "cell_type": "code",
      "execution_count": null,
      "metadata": {
        "id": "JtOjDX2Sugb0"
      },
      "outputs": [],
      "source": [
        "from sklearn.cluster import SpectralClustering\n",
        "from sklearn.metrics.pairwise import pairwise_kernels\n",
        "aff_matrix = pairwise_kernels(df_res_0.T, metric='cosine') + 2\n",
        "n_clusters = 2\n",
        "clustering = SpectralClustering(n_clusters=n_clusters, gamma=1, affinity='precomputed', random_state=4)\n",
        "clustering.fit(aff_matrix)\n",
        "cl_order = {i: a for i, a in enumerate([0, 1])}\n",
        "labels = pd.Series(clustering.labels_, index=df_res_0.columns).map(cl_order).sort_values()\n",
        "order = labels.sort_values().index\n",
        "sns.set(font_scale=0.7)\n",
        "fig, ax = plt.subplots(figsize=(12, 8))\n",
        "y = sns.heatmap(df_res_0.loc[sample_order['all'], order], ax=ax, cmap=\"RdBu_r\", vmax=0.3, vmin=-0.3, center=0)"
      ]
    },
    {
      "cell_type": "code",
      "execution_count": null,
      "metadata": {
        "id": "ReQnVDqRuxRI"
      },
      "outputs": [],
      "source": [
        "df_annotation = df_res_0.copy()\n",
        "df_annotation['layer'] = pb_age_norm.obs.layer\n",
        "df_annotation['condition'] = pb_age_norm.obs.condition\n",
        "layer_mean = df_annotation.groupby(['condition', 'layer']).mean()\n",
        "layer_mean.head()\n",
        "fig, axes = plt.subplots(n_clusters // 1, 1,  figsize=(7, 6 * n_clusters // 2), gridspec_kw={'hspace': 0.4})\n",
        "\n",
        "for label, ax in zip(clusters, axes.flatten()):\n",
        "    genes = labels[labels == label].index.tolist()\n",
        "\n",
        "    (\n",
        "        layer_mean[genes]\n",
        "        .mean(axis=1)\n",
        "        .reorder_levels(['layer', 'condition'])\n",
        "        .unstack().loc[layers]\n",
        "        .plot\n",
        "        .line(color={'human': 'tab:purple', 'spatial_libd_human': 'tab:orange'}, ax=ax, marker='.')\n",
        "    )\n",
        "    ax.set_title(f'Cluster {label}', fontsize=12)\n",
        "    ax.grid(False)\n",
        "    ax.hlines(0, xmin=0, xmax=6, colors='gray', linestyles='dashed')"
      ]
    },
    {
      "cell_type": "code",
      "execution_count": null,
      "metadata": {
        "id": "IIXvx09rvFeh"
      },
      "outputs": [],
      "source": [
        "labels_0 = pd.DataFrame(labels)\n",
        "labels_0 = labels_0.rename(columns={0: \"cluster\"})\n",
        "\n",
        "labels_0"
      ]
    },
    {
      "cell_type": "code",
      "execution_count": null,
      "metadata": {
        "id": "sxmjL_z7vGNq"
      },
      "outputs": [],
      "source": [
        "cluster_id = 0\n",
        "enr = gseapy.enrichr(gene_list = list(labels_0[labels_0['cluster'] == cluster_id].index),\n",
        "                     background = edge_r.gene,\n",
        "                     gene_sets=['GO_Biological_Process_2023',\n",
        "                                'GO_Cellular_Component_2023',\n",
        "                                'GO_Molecular_Function_2023'],\n",
        "                     organism='human',\n",
        "                     outdir=None)\n",
        "enr_res = enr.results\n",
        "enr_res = enr_res[enr_res['Adjusted P-value'] < 0.05]\n",
        "dotplot(enr_res,\n",
        "              column=\"Adjusted P-value\",\n",
        "              x='Gene_set',\n",
        "              size=2,\n",
        "              top_term=10,\n",
        "              figsize=(12,15),\n",
        "              title = \"GO analysis\",\n",
        "              xticklabels_rot=10,\n",
        "              show_ring=True,\n",
        "              marker='o',\n",
        "             )"
      ]
    },
    {
      "cell_type": "code",
      "execution_count": null,
      "metadata": {
        "id": "ctfczBWWOerN"
      },
      "outputs": [],
      "source": [
        "enr_res"
      ]
    },
    {
      "cell_type": "code",
      "execution_count": null,
      "metadata": {
        "id": "gTQoCUTZvN1b"
      },
      "outputs": [],
      "source": [
        "cluster_id = 1\n",
        "enr = gseapy.enrichr(gene_list = list(labels_0[labels_0['cluster'] == cluster_id].index),\n",
        "                     background = edge_r.gene,\n",
        "                     gene_sets=['GO_Biological_Process_2023',\n",
        "                                'GO_Cellular_Component_2023',\n",
        "                                'GO_Molecular_Function_2023'],\n",
        "                     organism='human',\n",
        "                     outdir=None)\n",
        "enr_res = enr.results\n",
        "enr_res = enr_res[enr_res['Adjusted P-value'] < 0.05]\n",
        "dotplot(enr_res,\n",
        "              column=\"Adjusted P-value\",\n",
        "              x='Gene_set',\n",
        "              size=2,\n",
        "              top_term=10,\n",
        "              figsize=(12,15),\n",
        "              title = \"GO analysis\",\n",
        "              xticklabels_rot=10,\n",
        "              show_ring=True,\n",
        "              marker='o',\n",
        "             )"
      ]
    },
    {
      "cell_type": "code",
      "source": [
        "cluster_0_0 = labels_0.loc[labels_0.cluster == 0]\n",
        "cluster_0_0_fc = de_fc.loc[de_fc.index.isin(cluster_0_0.index)]\n",
        "\n",
        "cluster_0_0_fc.head(20)"
      ],
      "metadata": {
        "id": "nZbf5kwM2GS5"
      },
      "execution_count": null,
      "outputs": []
    },
    {
      "cell_type": "code",
      "source": [
        "cluster_0_1 = labels_0.loc[labels_0.cluster == 1]\n",
        "cluster_0_1_fc = de_fc.loc[de_fc.index.isin(cluster_0_1.index)]\n",
        "\n",
        "cluster_0_1_fc.head(20)"
      ],
      "metadata": {
        "id": "gQz90GEc3QH4"
      },
      "execution_count": null,
      "outputs": []
    },
    {
      "cell_type": "markdown",
      "metadata": {
        "id": "VvFHn_EEf7c0"
      },
      "source": [
        "##4"
      ]
    },
    {
      "cell_type": "code",
      "execution_count": null,
      "metadata": {
        "id": "ynNqiXoSf6a0"
      },
      "outputs": [],
      "source": [
        "df_res_4 = df_res_4.T\n",
        "sample_order = dict()\n",
        "for cond in ['human', '151']:\n",
        "    samples = df_res_4.loc[df_res_4.index.str.contains(cond)].index\n",
        "    order = samples.sort_values()\n",
        "    order_laminar = order[order.str.contains('L')].tolist()\n",
        "    order_wm = order[order.str.contains('WM')].tolist()\n",
        "    sample_order[cond] = order_wm + order_laminar\n",
        "sample_order['all'] = sample_order['human'] + sample_order['151']\n",
        "df_res_4 = df_res_4.loc[sample_order['all']]\n",
        "sns.set(font_scale=0.7)\n",
        "sns.clustermap(df_res_4, figsize=(15, 10), cmap=\"RdBu_r\", center=0, vmax=0.3, vmin=-0.3, metric='cosine', annot_kws={\"size\": 2}, row_cluster=False)"
      ]
    },
    {
      "cell_type": "code",
      "execution_count": null,
      "metadata": {
        "id": "bkq9PbP5gQzL"
      },
      "outputs": [],
      "source": [
        "from sklearn.cluster import SpectralClustering\n",
        "from sklearn.metrics.pairwise import pairwise_kernels\n",
        "aff_matrix = pairwise_kernels(df_res_4.T, metric='cosine') + 2\n",
        "n_clusters = 2\n",
        "clustering = SpectralClustering(n_clusters=n_clusters, gamma=1, affinity='precomputed', random_state=4)\n",
        "clustering.fit(aff_matrix)\n",
        "cl_order = {i: a for i, a in enumerate([0, 1])}\n",
        "labels = pd.Series(clustering.labels_, index=df_res_4.columns).map(cl_order).sort_values()\n",
        "order = labels.sort_values().index\n",
        "sns.set(font_scale=0.7)\n",
        "fig, ax = plt.subplots(figsize=(12, 8))\n",
        "y = sns.heatmap(df_res_4.loc[sample_order['all'], order], ax=ax, cmap=\"RdBu_r\", vmax=0.3, vmin=-0.3, center=0)"
      ]
    },
    {
      "cell_type": "code",
      "execution_count": null,
      "metadata": {
        "id": "QbMS8D2dgszF"
      },
      "outputs": [],
      "source": [
        "df_annotation = df_res_4.copy()\n",
        "df_annotation['layer'] = pb_age_norm.obs.layer\n",
        "df_annotation['condition'] = pb_age_norm.obs.condition\n",
        "layer_mean = df_annotation.groupby(['condition', 'layer']).mean()\n",
        "layer_mean.head()\n",
        "fig, axes = plt.subplots(n_clusters // 1, 1,  figsize=(7, 6 * n_clusters // 2), gridspec_kw={'hspace': 0.4})\n",
        "\n",
        "for label, ax in zip(clusters, axes.flatten()):\n",
        "    genes = labels[labels == label].index.tolist()\n",
        "\n",
        "    (\n",
        "        layer_mean[genes]\n",
        "        .mean(axis=1)\n",
        "        .reorder_levels(['layer', 'condition'])\n",
        "        .unstack().loc[layers]\n",
        "        .plot\n",
        "        .line(color={'human': 'tab:purple', 'spatial_libd_human': 'tab:orange'}, ax=ax, marker='.')\n",
        "    )\n",
        "    ax.set_title(f'Cluster {label}', fontsize=12)\n",
        "    ax.grid(False)\n",
        "    ax.hlines(0, xmin=0, xmax=6, colors='gray', linestyles='dashed')"
      ]
    },
    {
      "cell_type": "code",
      "execution_count": null,
      "metadata": {
        "id": "gAmySGZ8ifz6"
      },
      "outputs": [],
      "source": [
        "labels_4 = pd.DataFrame(labels)\n",
        "labels_4 = labels_4.rename(columns={0: \"cluster\"})\n",
        "\n",
        "labels_4"
      ]
    },
    {
      "cell_type": "code",
      "execution_count": null,
      "metadata": {
        "id": "XUpbCcgXiU5d"
      },
      "outputs": [],
      "source": [
        "cluster_id = 0\n",
        "enr = gseapy.enrichr(gene_list = list(labels_4[labels_4['cluster'] == cluster_id].index),\n",
        "                     background = edge_r.gene,\n",
        "                     gene_sets=['GO_Biological_Process_2023',\n",
        "                                'GO_Cellular_Component_2023',\n",
        "                                'GO_Molecular_Function_2023'],\n",
        "                     organism='human',\n",
        "                     outdir=None)\n",
        "enr_res = enr.results\n",
        "enr_res = enr_res[enr_res['Adjusted P-value'] < 0.05]\n",
        "dotplot(enr_res,\n",
        "              column=\"Adjusted P-value\",\n",
        "              x='Gene_set',\n",
        "              size=2,\n",
        "              top_term=10,\n",
        "              figsize=(12,15),\n",
        "              title = \"GO analysis\",\n",
        "              xticklabels_rot=10,\n",
        "              show_ring=True,\n",
        "              marker='o',\n",
        "             )"
      ]
    },
    {
      "cell_type": "code",
      "execution_count": null,
      "metadata": {
        "id": "eSd6jtRex9Wm"
      },
      "outputs": [],
      "source": [
        "de_fc_0_1 = de_fc_0.loc[de_fc_0.index.isin(var_0_1.gene)]\n",
        "de_fc_0_1"
      ]
    },
    {
      "cell_type": "code",
      "execution_count": null,
      "metadata": {
        "id": "1ITewwz9yJlb"
      },
      "outputs": [],
      "source": [
        "var_0_1"
      ]
    },
    {
      "cell_type": "code",
      "execution_count": null,
      "metadata": {
        "id": "P4Kv4hYniVVf"
      },
      "outputs": [],
      "source": [
        "cluster_id = 1\n",
        "enr = gseapy.enrichr(gene_list = list(labels_4[labels_4['cluster'] == cluster_id].index),\n",
        "                     background = edge_r.gene,\n",
        "                     gene_sets=['GO_Biological_Process_2023',\n",
        "                                'GO_Cellular_Component_2023',\n",
        "                                'GO_Molecular_Function_2023'],\n",
        "                     organism='human',\n",
        "                     outdir=None)\n",
        "enr_res = enr.results\n",
        "enr_res = enr_res[enr_res['Adjusted P-value'] < 0.05]\n",
        "dotplot(enr_res,\n",
        "              column=\"Adjusted P-value\",\n",
        "              x='Gene_set',\n",
        "              size=2,\n",
        "              top_term=10,\n",
        "              figsize=(12,15),\n",
        "              title = \"GO analysis\",\n",
        "              xticklabels_rot=10,\n",
        "              show_ring=True,\n",
        "              marker='o',\n",
        "             )"
      ]
    },
    {
      "cell_type": "code",
      "execution_count": null,
      "metadata": {
        "id": "K-uJ8ouTiVhz"
      },
      "outputs": [],
      "source": [
        "cluster_id = 2\n",
        "enr = gseapy.enrichr(gene_list = list(labels_0[labels_0['cluster'] == cluster_id].index),\n",
        "                     background = edge_r.gene,\n",
        "                     gene_sets=['GO_Biological_Process_2023',\n",
        "                                'GO_Cellular_Component_2023',\n",
        "                                'GO_Molecular_Function_2023'],\n",
        "                     organism='human',\n",
        "                     outdir=None)\n",
        "enr_res = enr.results\n",
        "enr_res = enr_res[enr_res['Adjusted P-value'] < 0.05]\n",
        "dotplot(enr_res,\n",
        "              column=\"Adjusted P-value\",\n",
        "              x='Gene_set',\n",
        "              size=2,\n",
        "              top_term=10,\n",
        "              figsize=(12,15),\n",
        "              title = \"GO analysis\",\n",
        "              xticklabels_rot=10,\n",
        "              show_ring=True,\n",
        "              marker='o',\n",
        "             )"
      ]
    },
    {
      "cell_type": "code",
      "execution_count": null,
      "metadata": {
        "id": "968QbYrLjVZZ"
      },
      "outputs": [],
      "source": [
        "labels_0_splice = labels_0.loc[labels_0.cluster == 2]\n",
        "labels_0_splice"
      ]
    },
    {
      "cell_type": "code",
      "execution_count": null,
      "metadata": {
        "id": "ZXovnzH6kId8"
      },
      "outputs": [],
      "source": [
        "splice_genes = df[df.index.isin(labels_0_splice.index)]\n",
        "splice_genes"
      ]
    },
    {
      "cell_type": "code",
      "execution_count": null,
      "metadata": {
        "id": "XViheTBGkatY"
      },
      "outputs": [],
      "source": [
        "splice_genes['genes'] = splice_genes.index\n",
        "de_fc = pd.merge(FC, splice_genes, on='genes', how='inner')\n",
        "de_fc = de_fc.drop(de_fc.iloc[:, 8:119], axis = 1)\n",
        "de_fc.index = de_fc['genes']\n",
        "de_fc = de_fc.drop(de_fc.columns[0], axis =1)\n",
        "de_fc = de_fc.sort_values(by = 'FC_L1', ascending = False)\n",
        "de_fc = de_fc.dropna(axis = 0)\n",
        "fig, ax = plt.subplots(figsize= (20, 15))\n",
        "sns.heatmap(de_fc, cmap = \"bwr\", ax=ax, norm=mpl.colors.Normalize(vmin=-6, vmax=6))\n",
        "plt.show()"
      ]
    },
    {
      "cell_type": "code",
      "execution_count": null,
      "metadata": {
        "id": "icojemv0kx8O"
      },
      "outputs": [],
      "source": [
        "de_fc.head(50)"
      ]
    },
    {
      "cell_type": "code",
      "execution_count": null,
      "metadata": {
        "id": "A-n0uKk6mCHh"
      },
      "outputs": [],
      "source": [
        "enr_res"
      ]
    },
    {
      "cell_type": "markdown",
      "source": [
        "##6"
      ],
      "metadata": {
        "id": "f7MCDmT2a31V"
      }
    },
    {
      "cell_type": "code",
      "source": [
        "df_res_6 = df_res_6.T\n",
        "sample_order = dict()\n",
        "for cond in ['human', '151']:\n",
        "    samples = df_res_6.loc[df_res_6.index.str.contains(cond)].index\n",
        "    order = samples.sort_values()\n",
        "    order_laminar = order[order.str.contains('L')].tolist()\n",
        "    order_wm = order[order.str.contains('WM')].tolist()\n",
        "    sample_order[cond] = order_wm + order_laminar\n",
        "sample_order['all'] = sample_order['human'] + sample_order['151']\n",
        "df_res_6 = df_res_6.loc[sample_order['all']]\n",
        "sns.set(font_scale=0.7)\n",
        "sns.clustermap(df_res_6, figsize=(15, 10), cmap=\"RdBu_r\", center=0, vmax=0.3, vmin=-0.3, metric='cosine', annot_kws={\"size\": 2}, row_cluster=False)"
      ],
      "metadata": {
        "id": "ca6qW8WCa9Y_"
      },
      "execution_count": null,
      "outputs": []
    },
    {
      "cell_type": "code",
      "source": [
        "from sklearn.cluster import SpectralClustering\n",
        "from sklearn.metrics.pairwise import pairwise_kernels\n",
        "aff_matrix = pairwise_kernels(df_res_6.T, metric='cosine') + 2\n",
        "n_clusters = 2\n",
        "clustering = SpectralClustering(n_clusters=n_clusters, gamma=1, affinity='precomputed', random_state=4)\n",
        "clustering.fit(aff_matrix)\n",
        "cl_order = {i: a for i, a in enumerate([0, 1, 2, 3])}\n",
        "labels = pd.Series(clustering.labels_, index=df_res_6.columns).map(cl_order).sort_values()\n",
        "order = labels.sort_values().index\n",
        "sns.set(font_scale=0.7)\n",
        "fig, ax = plt.subplots(figsize=(12, 8))\n",
        "y = sns.heatmap(df_res_6.loc[sample_order['all'], order], ax=ax, cmap=\"RdBu_r\", vmax=0.3, vmin=-0.3, center=0)"
      ],
      "metadata": {
        "id": "GBEkMsoBa-s3"
      },
      "execution_count": null,
      "outputs": []
    },
    {
      "cell_type": "code",
      "source": [
        "df_annotation = df_res_6.copy()\n",
        "df_annotation['layer'] = pb_age_norm.obs.layer\n",
        "df_annotation['condition'] = pb_age_norm.obs.condition\n",
        "layer_mean = df_annotation.groupby(['condition', 'layer']).mean()\n",
        "layer_mean.head()\n",
        "fig, axes = plt.subplots(n_clusters // 1, 1,  figsize=(7, 6 * n_clusters // 2), gridspec_kw={'hspace': 0.4})\n",
        "\n",
        "for label, ax in zip(clusters, axes.flatten()):\n",
        "    genes = labels[labels == label].index.tolist()\n",
        "\n",
        "    (\n",
        "        layer_mean[genes]\n",
        "        .mean(axis=1)\n",
        "        .reorder_levels(['layer', 'condition'])\n",
        "        .unstack().loc[layers]\n",
        "        .plot\n",
        "        .line(color={'human': 'tab:purple', 'spatial_libd_human': 'tab:orange'}, ax=ax, marker='.')\n",
        "    )\n",
        "    ax.set_title(f'Cluster {label}', fontsize=12)\n",
        "    ax.grid(False)\n",
        "    ax.hlines(0, xmin=0, xmax=6, colors='gray', linestyles='dashed')"
      ],
      "metadata": {
        "id": "MxvAtqE0a-4b"
      },
      "execution_count": null,
      "outputs": []
    },
    {
      "cell_type": "code",
      "source": [
        "labels_6 = pd.DataFrame(labels)\n",
        "labels_6 = labels_6.rename(columns={0: \"cluster\"})"
      ],
      "metadata": {
        "id": "0zSZabBDa-8F"
      },
      "execution_count": null,
      "outputs": []
    },
    {
      "cell_type": "code",
      "source": [
        "cluster_id = 0\n",
        "enr = gseapy.enrichr(gene_list = list(labels_6[labels_6['cluster'] == cluster_id].index),\n",
        "                     background = edge_r.gene,\n",
        "                     gene_sets=['GO_Biological_Process_2023',\n",
        "                                'GO_Cellular_Component_2023',\n",
        "                                'GO_Molecular_Function_2023'],\n",
        "                     organism='human',\n",
        "                     outdir=None)\n",
        "enr_res = enr.results\n",
        "enr_res = enr_res[enr_res['Adjusted P-value'] < 0.05]\n",
        "dotplot(enr_res,\n",
        "              column=\"Adjusted P-value\",\n",
        "              x='Gene_set',\n",
        "              size=2,\n",
        "              top_term=10,\n",
        "              figsize=(12,15),\n",
        "              title = \"GO analysis\",\n",
        "              xticklabels_rot=10,\n",
        "              show_ring=True,\n",
        "              marker='o',\n",
        "             )"
      ],
      "metadata": {
        "id": "tiZYlLAQa_CU"
      },
      "execution_count": null,
      "outputs": []
    },
    {
      "cell_type": "code",
      "source": [
        "cluster_id = 1\n",
        "enr = gseapy.enrichr(gene_list = list(labels_6[labels_6['cluster'] == cluster_id].index),\n",
        "                     background = edge_r.gene,\n",
        "                     gene_sets=['GO_Biological_Process_2023',\n",
        "                                'GO_Cellular_Component_2023',\n",
        "                                'GO_Molecular_Function_2023'],\n",
        "                     organism='human',\n",
        "                     outdir=None)\n",
        "enr_res = enr.results\n",
        "enr_res = enr_res[enr_res['Adjusted P-value'] < 0.05]\n",
        "dotplot(enr_res,\n",
        "              column=\"Adjusted P-value\",\n",
        "              x='Gene_set',\n",
        "              size=2,\n",
        "              top_term=10,\n",
        "              figsize=(12,15),\n",
        "              title = \"GO analysis\",\n",
        "              xticklabels_rot=10,\n",
        "              show_ring=True,\n",
        "              marker='o',\n",
        "             )"
      ],
      "metadata": {
        "id": "Jo0xsj4Va_IE"
      },
      "execution_count": null,
      "outputs": []
    },
    {
      "cell_type": "code",
      "source": [
        "cluster_id = 2\n",
        "enr = gseapy.enrichr(gene_list = list(labels_6[labels_6['cluster'] == cluster_id].index),\n",
        "                     background = edge_r.gene,\n",
        "                     gene_sets=['GO_Biological_Process_2023',\n",
        "                                'GO_Cellular_Component_2023',\n",
        "                                'GO_Molecular_Function_2023'],\n",
        "                     organism='human',\n",
        "                     outdir=None)\n",
        "enr_res = enr.results\n",
        "enr_res = enr_res[enr_res['Adjusted P-value'] < 0.05]\n",
        "dotplot(enr_res,\n",
        "              column=\"Adjusted P-value\",\n",
        "              x='Gene_set',\n",
        "              size=2,\n",
        "              top_term=10,\n",
        "              figsize=(12,15),\n",
        "              title = \"GO analysis\",\n",
        "              xticklabels_rot=10,\n",
        "              show_ring=True,\n",
        "              marker='o',\n",
        "             )"
      ],
      "metadata": {
        "id": "_naHnpwaa_M3"
      },
      "execution_count": null,
      "outputs": []
    },
    {
      "cell_type": "code",
      "source": [
        "cluster_id = 4\n",
        "enr = gseapy.enrichr(gene_list = list(labels_6[labels_6['cluster'] == cluster_id].index),\n",
        "                     background = edge_r.gene,\n",
        "                     gene_sets=['GO_Biological_Process_2023',\n",
        "                                'GO_Cellular_Component_2023',\n",
        "                                'GO_Molecular_Function_2023'],\n",
        "                     organism='human',\n",
        "                     outdir=None)\n",
        "enr_res = enr.results\n",
        "enr_res = enr_res[enr_res['Adjusted P-value'] < 0.05]\n",
        "dotplot(enr_res,\n",
        "              column=\"Adjusted P-value\",\n",
        "              x='Gene_set',\n",
        "              size=2,\n",
        "              top_term=10,\n",
        "              figsize=(12,15),\n",
        "              title = \"GO analysis\",\n",
        "              xticklabels_rot=10,\n",
        "              show_ring=True,\n",
        "              marker='o',\n",
        "             )"
      ],
      "metadata": {
        "id": "T3O3FiGHa_Pm"
      },
      "execution_count": null,
      "outputs": []
    },
    {
      "cell_type": "markdown",
      "metadata": {
        "id": "LF7KWG4Mn5xw"
      },
      "source": [
        "##7"
      ]
    },
    {
      "cell_type": "code",
      "source": [
        "df_res_7"
      ],
      "metadata": {
        "id": "SaRmP3-V5UEW"
      },
      "execution_count": null,
      "outputs": []
    },
    {
      "cell_type": "code",
      "execution_count": null,
      "metadata": {
        "id": "9v5yOOLfn4Wb"
      },
      "outputs": [],
      "source": [
        "df_res_7 = df_res_7.T\n",
        "sample_order = dict()\n",
        "for cond in ['human', '151']:\n",
        "    samples = df_res_7.loc[df_res_7.index.str.contains(cond)].index\n",
        "    order = samples.sort_values()\n",
        "    order_laminar = order[order.str.contains('L')].tolist()\n",
        "    order_wm = order[order.str.contains('WM')].tolist()\n",
        "    sample_order[cond] = order_wm + order_laminar\n",
        "sample_order['all'] = sample_order['human'] + sample_order['151']\n",
        "df_res_7 = df_res_7.loc[sample_order['all']]\n",
        "sns.set(font_scale=0.7)\n",
        "sns.clustermap(df_res_7, figsize=(15, 10), cmap=\"RdBu_r\", center=0, vmax=0.3, vmin=-0.3, metric='cosine', annot_kws={\"size\": 2}, row_cluster=False)"
      ]
    },
    {
      "cell_type": "code",
      "execution_count": null,
      "metadata": {
        "id": "Gjh5gGFRiRwc"
      },
      "outputs": [],
      "source": [
        "df_res_7"
      ]
    },
    {
      "cell_type": "code",
      "execution_count": null,
      "metadata": {
        "id": "BRk88FlFoPyn"
      },
      "outputs": [],
      "source": [
        "from sklearn.cluster import SpectralClustering\n",
        "from sklearn.metrics.pairwise import pairwise_kernels\n",
        "aff_matrix = pairwise_kernels(df_res_7.T, metric='cosine') + 2\n",
        "n_clusters = 4\n",
        "clustering = SpectralClustering(n_clusters=n_clusters, gamma=1, affinity='precomputed', random_state=4)\n",
        "clustering.fit(aff_matrix)\n",
        "cl_order = {i: a for i, a in enumerate([0, 1, 2, 3])}\n",
        "labels = pd.Series(clustering.labels_, index=df_res_7.columns).map(cl_order).sort_values()\n",
        "order = labels.sort_values().index\n",
        "sns.set(font_scale=0.7)\n",
        "fig, ax = plt.subplots(figsize=(12, 8))\n",
        "y = sns.heatmap(df_res_7.loc[sample_order['all'], order], ax=ax, cmap=\"RdBu_r\", vmax=0.3, vmin=-0.3, center=0)"
      ]
    },
    {
      "cell_type": "code",
      "execution_count": null,
      "metadata": {
        "id": "PIdmIGpVoVuc"
      },
      "outputs": [],
      "source": [
        "df_annotation = df_res_7.copy()\n",
        "df_annotation['layer'] = pb_age_norm.obs.layer\n",
        "df_annotation['condition'] = pb_age_norm.obs.condition\n",
        "layer_mean = df_annotation.groupby(['condition', 'layer']).mean()\n",
        "layer_mean.head()\n",
        "fig, axes = plt.subplots(n_clusters // 1, 1,  figsize=(7, 6 * n_clusters // 2), gridspec_kw={'hspace': 0.4})\n",
        "\n",
        "for label, ax in zip(clusters, axes.flatten()):\n",
        "    genes = labels[labels == label].index.tolist()\n",
        "\n",
        "    (\n",
        "        layer_mean[genes]\n",
        "        .mean(axis=1)\n",
        "        .reorder_levels(['layer', 'condition'])\n",
        "        .unstack().loc[layers]\n",
        "        .plot\n",
        "        .line(color={'human': 'tab:purple', 'spatial_libd_human': 'tab:orange'}, ax=ax, marker='.')\n",
        "    )\n",
        "    ax.set_title(f'Cluster {label}', fontsize=12)\n",
        "    ax.grid(False)\n",
        "    ax.hlines(0, xmin=0, xmax=6, colors='gray', linestyles='dashed')"
      ]
    },
    {
      "cell_type": "code",
      "execution_count": null,
      "metadata": {
        "id": "DZWzHKOVshFk"
      },
      "outputs": [],
      "source": [
        "labels_7 = pd.DataFrame(labels)\n",
        "labels_7 = labels_7.rename(columns={0: \"cluster\"})"
      ]
    },
    {
      "cell_type": "code",
      "source": [
        "edge_r"
      ],
      "metadata": {
        "id": "fh__rcX05siA"
      },
      "execution_count": null,
      "outputs": []
    },
    {
      "cell_type": "code",
      "execution_count": null,
      "metadata": {
        "id": "o8UmnHEgsZAz"
      },
      "outputs": [],
      "source": [
        "cluster_id = 0\n",
        "enr = gseapy.enrichr(gene_list = list(labels_7[labels_7['cluster'] == cluster_id].index),\n",
        "                     background = edge_r.gene,\n",
        "                     gene_sets=['GO_Biological_Process_2023',\n",
        "                                'GO_Cellular_Component_2023',\n",
        "                                'GO_Molecular_Function_2023'],\n",
        "                     organism='human',\n",
        "                     outdir=None)\n",
        "enr_res = enr.results\n",
        "enr_res = enr_res[enr_res['Adjusted P-value'] < 0.05]\n",
        "dotplot(enr_res,\n",
        "              column=\"Adjusted P-value\",\n",
        "              x='Gene_set',\n",
        "              size=2,\n",
        "              top_term=10,\n",
        "              figsize=(12,15),\n",
        "              title = \"GO analysis\",\n",
        "              xticklabels_rot=10,\n",
        "              show_ring=True,\n",
        "              marker='o',\n",
        "             )"
      ]
    },
    {
      "cell_type": "code",
      "execution_count": null,
      "metadata": {
        "id": "A0iSqzpJs8QU"
      },
      "outputs": [],
      "source": [
        "cluster_id = 1\n",
        "enr = gseapy.enrichr(gene_list = list(labels_7[labels_7['cluster'] == cluster_id].index),\n",
        "                     background = edge_r.gene,\n",
        "                     gene_sets=['GO_Biological_Process_2021',\n",
        "                                'GO_Cellular_Component_2021',\n",
        "                                'GO_Molecular_Function_2021'],\n",
        "                     organism='human',\n",
        "                     outdir=None)\n",
        "enr_res = enr.results\n",
        "enr_res = enr_res[enr_res['Adjusted P-value'] < 0.05]\n",
        "dotplot(enr_res,\n",
        "              column=\"Adjusted P-value\",\n",
        "              x='Gene_set',\n",
        "              size=2,\n",
        "              top_term=10,\n",
        "              figsize=(12,15),\n",
        "              title = \"GO analysis\",\n",
        "              xticklabels_rot=10,\n",
        "              show_ring=True,\n",
        "              marker='o',\n",
        "             )"
      ]
    },
    {
      "cell_type": "code",
      "execution_count": null,
      "metadata": {
        "id": "NI6QxC05LWKg"
      },
      "outputs": [],
      "source": [
        "enr_res"
      ]
    },
    {
      "cell_type": "code",
      "execution_count": null,
      "metadata": {
        "id": "Mzaztz-KLONp"
      },
      "outputs": [],
      "source": [
        "cluster_id = 3\n",
        "enr = gseapy.enrichr(gene_list = list(labels_7[labels_7['cluster'] == cluster_id].index),\n",
        "                     background = edge_r.gene,\n",
        "                     gene_sets=['GO_Biological_Process_2021',\n",
        "                                'GO_Cellular_Component_2021',\n",
        "                                'GO_Molecular_Function_2021'],\n",
        "                     organism='human',\n",
        "                     outdir=None)\n",
        "enr_res = enr.results\n",
        "enr_res = enr_res[enr_res['Adjusted P-value'] < 0.05]\n",
        "dotplot(enr_res,\n",
        "              column=\"Adjusted P-value\",\n",
        "              x='Gene_set',\n",
        "              size=2,\n",
        "              top_term=10,\n",
        "              figsize=(12,15),\n",
        "              title = \"GO analysis\",\n",
        "              xticklabels_rot=10,\n",
        "              show_ring=True,\n",
        "              marker='o',\n",
        "             )"
      ]
    },
    {
      "cell_type": "markdown",
      "metadata": {
        "id": "MftzUVPk2r3j"
      },
      "source": []
    },
    {
      "cell_type": "code",
      "execution_count": null,
      "metadata": {
        "id": "VbPyQ9C5tKSD"
      },
      "outputs": [],
      "source": [
        "enr_res"
      ]
    },
    {
      "cell_type": "code",
      "source": [
        "labels_7"
      ],
      "metadata": {
        "id": "5m8D-cVn6lEi"
      },
      "execution_count": null,
      "outputs": []
    },
    {
      "cell_type": "code",
      "source": [
        "cluster_7_3 = labels_7.loc[labels_7.cluster == 3]\n",
        "cluster_7_3_fc = de_fc.loc[de_fc.index.isin(cluster_7_3.index)]\n",
        "\n",
        "cluster_7_3_fc.head(100)"
      ],
      "metadata": {
        "id": "LeK8wteT6bMS"
      },
      "execution_count": null,
      "outputs": []
    },
    {
      "cell_type": "markdown",
      "metadata": {
        "id": "4oMJ5A6W2tDV"
      },
      "source": [
        "#Spatial vriability"
      ]
    },
    {
      "cell_type": "code",
      "execution_count": null,
      "metadata": {
        "id": "4uLF5php2yAs"
      },
      "outputs": [],
      "source": [
        "pip install 'squidpy[interactive]'\n"
      ]
    },
    {
      "cell_type": "code",
      "execution_count": null,
      "metadata": {
        "id": "zWrU2Q3G2qm6"
      },
      "outputs": [],
      "source": [
        "import squidpy as sq\n"
      ]
    },
    {
      "cell_type": "code",
      "execution_count": null,
      "metadata": {
        "id": "yVaRwgsm3zsq"
      },
      "outputs": [],
      "source": [
        "pb_age = sc.read_h5ad(dir_path + 'pb_age.h5ad')"
      ]
    },
    {
      "cell_type": "code",
      "execution_count": null,
      "metadata": {
        "id": "tTAdL6Tb-sIG"
      },
      "outputs": [],
      "source": [
        "adata_nb = sc.read_h5ad(dir_path_r + 'human.h5ad')\n",
        "adata_nb.obs.label.replace({\"L6a\": \"L6\", \"L6b\": \"L6\"}, inplace=True)"
      ]
    },
    {
      "cell_type": "code",
      "execution_count": null,
      "metadata": {
        "id": "mwDZRY8y4Bzm"
      },
      "outputs": [],
      "source": [
        "adata_nb = sc.read_h5ad(dir_path_r + 'human.h5ad')\n",
        "adata_nb.obs.label.replace({\"L6a\": \"L6\", \"L6b\": \"L6\"}, inplace=True)\n",
        "adata_nb = adata_nb[:, adata_nb.X.mean(axis=0) > 0.1]\n",
        "sc.pp.normalize_total(adata_nb)\n",
        "sc.pp.log1p(adata_nb)\n",
        "adata_ad = sc.read_h5ad(dir_path_r + 'spatial_libd_human.h5ad')\n",
        "adata_ad.obs.label.replace({\"L6a\": \"L6\", \"L6b\": \"L6\"}, inplace=True)\n",
        "adata_ad = adata_ad[:, adata_ad.X.mean(axis=0) > 0.1]\n",
        "sc.pp.normalize_total(adata_ad)\n",
        "sc.pp.log1p(adata_ad)"
      ]
    },
    {
      "cell_type": "code",
      "execution_count": null,
      "metadata": {
        "id": "i7BWTK-o6caG"
      },
      "outputs": [],
      "source": [
        "from tqdm.notebook import tqdm\n",
        "expr_dict = dict()\n",
        "ann_dict = dict()\n",
        "for file_name in tqdm(os.listdir(dir_path_r)):\n",
        "    file = file_name.split('.')[0]\n",
        "    # read adata object\n",
        "    adata = sc.read_h5ad(dir_path_r + file_name)\n",
        "    adata.obs.label.replace({\"L6a\": \"L6\", \"L6b\": \"L6\"}, inplace=True)\n",
        "    # add pseudobulk label\n",
        "    adata.obs['pb_label'] = adata.obs.label.astype(str) + '.' + adata.obs.sample_id.astype(str)\n",
        "    # create pseudobulk df\n",
        "    sample_layer_list = adata.obs.pb_label.unique().tolist()\n",
        "    pb_list = [adata[adata.obs.pb_label]]\n",
        "    pb_df = pd.DataFrame(np.concatenate(pb_list).T, columns=sample_layer_list, index=adata.var_names)\n",
        "    expr_dict[file] = pb_df\n",
        "    # create annotation file\n",
        "    columns = ['layer', 'sample_id']\n",
        "    annotation_list = [sample.split('.') for sample in sample_layer_list]\n",
        "    annotation = pd.DataFrame(annotation_list, index=sample_layer_list, columns=columns)\n",
        "    annotation['condition'] = file\n",
        "    ann_dict[file] = annotation"
      ]
    },
    {
      "cell_type": "code",
      "execution_count": null,
      "metadata": {
        "id": "fiN2MMAM70KD"
      },
      "outputs": [],
      "source": [
        "pb_df = pd.DataFrame(.T, columns=sample_layer_list, index=adata.var_names)"
      ]
    },
    {
      "cell_type": "code",
      "execution_count": null,
      "metadata": {
        "id": "BImWWq3r9K1c"
      },
      "outputs": [],
      "source": [
        "adata_nb = adata_nb[adata_nb.obs.label != 'Empty spots']"
      ]
    },
    {
      "cell_type": "code",
      "execution_count": null,
      "metadata": {
        "id": "EfyTAhR5_UNI"
      },
      "outputs": [],
      "source": [
        "adata_ad = adata_ad[adata_ad.obs.label.notna()]"
      ]
    },
    {
      "cell_type": "code",
      "execution_count": null,
      "metadata": {
        "id": "IY1FSyhjA5k7"
      },
      "outputs": [],
      "source": [
        "sq.pl.spatial_scatter(adata_ad, library_key='sample_id')"
      ]
    },
    {
      "cell_type": "code",
      "execution_count": null,
      "metadata": {
        "id": "sRUklTNp3ntT"
      },
      "outputs": [],
      "source": [
        "sq.pl.spatial_scatter(adata_ad, color=['label'], library_key='sample_id', size = 1.6, edges_width = 0)"
      ]
    },
    {
      "cell_type": "code",
      "execution_count": null,
      "metadata": {
        "id": "jZEzAwlbJFRi"
      },
      "outputs": [],
      "source": [
        "sq.gr.spatial_neighbors(adata_ad)\n"
      ]
    },
    {
      "cell_type": "code",
      "execution_count": null,
      "metadata": {
        "id": "D5lods-6JV1H"
      },
      "outputs": [],
      "source": [
        "adata_nb.var.index"
      ]
    },
    {
      "cell_type": "code",
      "execution_count": null,
      "metadata": {
        "id": "MJkxFfUtsQw6"
      },
      "outputs": [],
      "source": [
        "adata_ad"
      ]
    },
    {
      "cell_type": "code",
      "execution_count": null,
      "metadata": {
        "id": "7mFVlY6TIeeU"
      },
      "outputs": [],
      "source": [
        "spatial_de_ad = sq.gr.spatial_autocorr(adata_ad,\n",
        "    mode=\"moran\",\n",
        "    genes=adata_ad.var.index,\n",
        "    attr = 'X',\n",
        "    n_perms=100,\n",
        "    n_jobs=1,\n",
        "    copy = True,\n",
        "    corr_method = 'fdr_bh'\n",
        ")"
      ]
    },
    {
      "cell_type": "code",
      "execution_count": null,
      "metadata": {
        "id": "N7m0BYcuYmX_"
      },
      "outputs": [],
      "source": [
        "spatial_de_ad.sort_values(by = 'pval_norm_fdr_bh', ascending = True)"
      ]
    },
    {
      "cell_type": "code",
      "execution_count": null,
      "metadata": {
        "id": "nDB0iZ7hZzl2"
      },
      "outputs": [],
      "source": [
        "pip install matplotlib==3.1.3"
      ]
    },
    {
      "cell_type": "code",
      "execution_count": null,
      "metadata": {
        "id": "axq-taIGjGHo"
      },
      "outputs": [],
      "source": [
        "pip install pandas==2.0"
      ]
    },
    {
      "cell_type": "code",
      "execution_count": null,
      "metadata": {
        "id": "Xm7EZgufbdij"
      },
      "outputs": [],
      "source": [
        "spatial_de.head(100)"
      ]
    },
    {
      "cell_type": "code",
      "execution_count": null,
      "metadata": {
        "id": "_V-EmfRtc55w"
      },
      "outputs": [],
      "source": [
        "x = spatial_de.pval_norm"
      ]
    },
    {
      "cell_type": "code",
      "execution_count": null,
      "metadata": {
        "id": "mmHA3wYPdECo"
      },
      "outputs": [],
      "source": [
        "X = pd.DataFrame(x)\n",
        "X"
      ]
    },
    {
      "cell_type": "code",
      "execution_count": null,
      "metadata": {
        "id": "C0cQ-gOAdouZ"
      },
      "outputs": [],
      "source": [
        "X = X.dropna(how = 'any')\n",
        "X"
      ]
    },
    {
      "cell_type": "code",
      "execution_count": null,
      "metadata": {
        "id": "P0sp0E7DdVxJ"
      },
      "outputs": [],
      "source": [
        "spatial_de.index = spatial_de.index.str.replace(\".\", \"_\")"
      ]
    },
    {
      "cell_type": "code",
      "execution_count": null,
      "metadata": {
        "id": "eE_p-RJJYU7Q"
      },
      "outputs": [],
      "source": [
        "spatial_de_ad.to_csv(dir_path + 'spatial_var_ad.csv')"
      ]
    },
    {
      "cell_type": "code",
      "execution_count": null,
      "metadata": {
        "id": "dbT4BrHxX-Q7"
      },
      "outputs": [],
      "source": [
        "spatial_de_ad = pd.read_csv(dir_path + 'spatial_var_ad.csv')\n",
        "spatial_de_ad.columns = spatial_de_ad.columns.str.replace(\"Unnamed: 0\", \"gene\")\n",
        "spatial_de_ad"
      ]
    },
    {
      "cell_type": "code",
      "execution_count": null,
      "metadata": {
        "id": "2qCkuZJaHggl"
      },
      "outputs": [],
      "source": [
        "var_0_1 = spatial_de_ad.loc[spatial_de_ad.gene.isin(labels_0.index)]\n",
        "var_0_1"
      ]
    }
  ],
  "metadata": {
    "colab": {
      "provenance": [],
      "authorship_tag": "ABX9TyMvRet2mVgmV8Ugxn16dOD4",
      "include_colab_link": true
    },
    "kernelspec": {
      "display_name": "Python 3",
      "name": "python3"
    },
    "language_info": {
      "name": "python"
    }
  },
  "nbformat": 4,
  "nbformat_minor": 0
}